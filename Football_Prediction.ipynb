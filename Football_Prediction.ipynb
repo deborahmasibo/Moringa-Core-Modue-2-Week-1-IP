{
  "nbformat": 4,
  "nbformat_minor": 0,
  "metadata": {
    "colab": {
      "name": "Football Prediction.ipynb",
      "provenance": [],
      "collapsed_sections": [],
      "authorship_tag": "ABX9TyOln6u7zZlNvxRt1Ak5vVWX",
      "include_colab_link": true
    },
    "kernelspec": {
      "name": "python3",
      "display_name": "Python 3"
    },
    "language_info": {
      "name": "python"
    }
  },
  "cells": [
    {
      "cell_type": "markdown",
      "metadata": {
        "id": "view-in-github",
        "colab_type": "text"
      },
      "source": [
        "<a href=\"https://colab.research.google.com/github/deborahmasibo/Moringa-Core-Modue-2-Week-1-IP/blob/main/Football_Prediction.ipynb\" target=\"_parent\"><img src=\"https://colab.research.google.com/assets/colab-badge.svg\" alt=\"Open In Colab\"/></a>"
      ]
    },
    {
      "cell_type": "markdown",
      "source": [
        "# Footbal Prediction"
      ],
      "metadata": {
        "id": "cpC0ItNYWyJZ"
      }
    },
    {
      "cell_type": "markdown",
      "metadata": {
        "id": "kLG2VTrnTvYL"
      },
      "source": [
        "## 1. Defining the Question"
      ]
    },
    {
      "cell_type": "markdown",
      "metadata": {
        "id": "XecOwPNorl2W"
      },
      "source": [
        "### a) Specifying the Question"
      ]
    },
    {
      "cell_type": "markdown",
      "metadata": {
        "id": "8l3-hBO6bODP"
      },
      "source": [
        "\n",
        "You have been recruited as a football analyst in a company - Mchezopesa Ltd and tasked to accomplish the task below.\n",
        "\n",
        "A prediction result of a game between team 1 and team 2, based on who's home and who's away, and on whether or not the game is friendly (include rank in your training).\n",
        "\n",
        "You have two possible approaches (as  shown below) given the datasets that will be provided\n",
        "\n",
        "Input: Home team, Away team, Tournament type (World cup, Friendly, Other)\n",
        "\n"
      ]
    },
    {
      "cell_type": "markdown",
      "metadata": {
        "id": "J4wfHZwQrs-t"
      },
      "source": [
        "### b) Defining the Metric for Success"
      ]
    },
    {
      "cell_type": "markdown",
      "metadata": {
        "id": "a9BPYqunry97"
      },
      "source": [
        "### c) Understanding the context "
      ]
    },
    {
      "cell_type": "markdown",
      "metadata": {
        "id": "7KMRBJ7zr9HD"
      },
      "source": [
        "### d) Recording the Experimental Design"
      ]
    },
    {
      "cell_type": "markdown",
      "metadata": {
        "id": "zSGyg6kWsBUl"
      },
      "source": [
        "### e) Data Relevance"
      ]
    },
    {
      "cell_type": "markdown",
      "metadata": {
        "id": "iUNbvIvnT7ep"
      },
      "source": [
        "## 2. Reading the Data"
      ]
    },
    {
      "cell_type": "code",
      "source": [
        "# Imports\n",
        "# Imports\n",
        "import pandas as pd\n",
        "import numpy as np\n",
        "import matplotlib.pyplot as plt\n",
        "import os\n",
        "from warnings import filterwarnings\n",
        "filterwarnings('ignore')\n",
        "%matplotlib inline"
      ],
      "metadata": {
        "id": "70yGM3cvfxtx"
      },
      "execution_count": 2,
      "outputs": []
    },
    {
      "cell_type": "code",
      "source": [
        "# Mounting Google Drive\n",
        "from google.colab import drive\n",
        "drive.mount('/content/drive')\n",
        "\n",
        "# Accessing working directory\n",
        "os.chdir('/content/drive/My Drive/Core/Machine Learning/Moringa Core Module 2 Week 1 IP')"
      ],
      "metadata": {
        "colab": {
          "base_uri": "https://localhost:8080/"
        },
        "id": "EZNC2z5Mf6hP",
        "outputId": "52d90462-51e0-452c-ad41-8d48809a1374"
      },
      "execution_count": 3,
      "outputs": [
        {
          "output_type": "stream",
          "name": "stdout",
          "text": [
            "Mounted at /content/drive\n"
          ]
        }
      ]
    },
    {
      "cell_type": "code",
      "metadata": {
        "id": "XJn2KjW-WMlG"
      },
      "source": [
        "# Loading the Dataset\n",
        "fifa = pd.read_csv('fifa_ranking.csv', parse_dates = ['rank_date'])\n",
        "results = pd.read_csv('results.csv',  parse_dates = ['date'])"
      ],
      "execution_count": 4,
      "outputs": []
    },
    {
      "cell_type": "markdown",
      "metadata": {
        "id": "OI3P3YnHUEBk"
      },
      "source": [
        "## 3. Checking the Data"
      ]
    },
    {
      "cell_type": "markdown",
      "source": [
        "**Number of records**"
      ],
      "metadata": {
        "id": "-zUtm_6NiGJB"
      }
    },
    {
      "cell_type": "code",
      "metadata": {
        "id": "YjSVNwgptHxY",
        "colab": {
          "base_uri": "https://localhost:8080/"
        },
        "outputId": "16a60cc7-0430-4979-bfab-dcdf18fd3715"
      },
      "source": [
        "# Number of records in the datasets\n",
        "print(f'FIFA dataset: records = {fifa.shape[0]} and columns = {fifa.shape[1]}')\n",
        "print(f'Results dataset: records = {results.shape[0]} and columns = {results.shape[1]}')"
      ],
      "execution_count": 5,
      "outputs": [
        {
          "output_type": "stream",
          "name": "stdout",
          "text": [
            "FIFA dataset: records = 57793 and columns = 16\n",
            "Results dataset: records = 40839 and columns = 9\n"
          ]
        }
      ]
    },
    {
      "cell_type": "markdown",
      "source": [
        "**Dataset top preview**"
      ],
      "metadata": {
        "id": "NnCRUL5biQ4e"
      }
    },
    {
      "cell_type": "code",
      "metadata": {
        "id": "xHhTw5eKWr0n",
        "colab": {
          "base_uri": "https://localhost:8080/",
          "height": 357
        },
        "outputId": "48ccb9af-c94a-4ff3-bc7a-ba0da26533e0"
      },
      "source": [
        "# Previewing the top of our dataset\n",
        "# FIFA\n",
        "fifa.head()\n"
      ],
      "execution_count": 6,
      "outputs": [
        {
          "output_type": "execute_result",
          "data": {
            "text/plain": [
              "   rank country_full country_abrv  total_points  previous_points  rank_change  \\\n",
              "0     1      Germany          GER           0.0               57            0   \n",
              "1     2        Italy          ITA           0.0               57            0   \n",
              "2     3  Switzerland          SUI           0.0               50            9   \n",
              "3     4       Sweden          SWE           0.0               55            0   \n",
              "4     5    Argentina          ARG           0.0               51            5   \n",
              "\n",
              "   cur_year_avg  cur_year_avg_weighted  last_year_avg  last_year_avg_weighted  \\\n",
              "0           0.0                    0.0            0.0                     0.0   \n",
              "1           0.0                    0.0            0.0                     0.0   \n",
              "2           0.0                    0.0            0.0                     0.0   \n",
              "3           0.0                    0.0            0.0                     0.0   \n",
              "4           0.0                    0.0            0.0                     0.0   \n",
              "\n",
              "   two_year_ago_avg  two_year_ago_weighted  three_year_ago_avg  \\\n",
              "0               0.0                    0.0                 0.0   \n",
              "1               0.0                    0.0                 0.0   \n",
              "2               0.0                    0.0                 0.0   \n",
              "3               0.0                    0.0                 0.0   \n",
              "4               0.0                    0.0                 0.0   \n",
              "\n",
              "   three_year_ago_weighted confederation  rank_date  \n",
              "0                      0.0          UEFA 1993-08-08  \n",
              "1                      0.0          UEFA 1993-08-08  \n",
              "2                      0.0          UEFA 1993-08-08  \n",
              "3                      0.0          UEFA 1993-08-08  \n",
              "4                      0.0      CONMEBOL 1993-08-08  "
            ],
            "text/html": [
              "\n",
              "  <div id=\"df-832b2bc3-d007-4e9b-ab8f-ca24bc369a42\">\n",
              "    <div class=\"colab-df-container\">\n",
              "      <div>\n",
              "<style scoped>\n",
              "    .dataframe tbody tr th:only-of-type {\n",
              "        vertical-align: middle;\n",
              "    }\n",
              "\n",
              "    .dataframe tbody tr th {\n",
              "        vertical-align: top;\n",
              "    }\n",
              "\n",
              "    .dataframe thead th {\n",
              "        text-align: right;\n",
              "    }\n",
              "</style>\n",
              "<table border=\"1\" class=\"dataframe\">\n",
              "  <thead>\n",
              "    <tr style=\"text-align: right;\">\n",
              "      <th></th>\n",
              "      <th>rank</th>\n",
              "      <th>country_full</th>\n",
              "      <th>country_abrv</th>\n",
              "      <th>total_points</th>\n",
              "      <th>previous_points</th>\n",
              "      <th>rank_change</th>\n",
              "      <th>cur_year_avg</th>\n",
              "      <th>cur_year_avg_weighted</th>\n",
              "      <th>last_year_avg</th>\n",
              "      <th>last_year_avg_weighted</th>\n",
              "      <th>two_year_ago_avg</th>\n",
              "      <th>two_year_ago_weighted</th>\n",
              "      <th>three_year_ago_avg</th>\n",
              "      <th>three_year_ago_weighted</th>\n",
              "      <th>confederation</th>\n",
              "      <th>rank_date</th>\n",
              "    </tr>\n",
              "  </thead>\n",
              "  <tbody>\n",
              "    <tr>\n",
              "      <th>0</th>\n",
              "      <td>1</td>\n",
              "      <td>Germany</td>\n",
              "      <td>GER</td>\n",
              "      <td>0.0</td>\n",
              "      <td>57</td>\n",
              "      <td>0</td>\n",
              "      <td>0.0</td>\n",
              "      <td>0.0</td>\n",
              "      <td>0.0</td>\n",
              "      <td>0.0</td>\n",
              "      <td>0.0</td>\n",
              "      <td>0.0</td>\n",
              "      <td>0.0</td>\n",
              "      <td>0.0</td>\n",
              "      <td>UEFA</td>\n",
              "      <td>1993-08-08</td>\n",
              "    </tr>\n",
              "    <tr>\n",
              "      <th>1</th>\n",
              "      <td>2</td>\n",
              "      <td>Italy</td>\n",
              "      <td>ITA</td>\n",
              "      <td>0.0</td>\n",
              "      <td>57</td>\n",
              "      <td>0</td>\n",
              "      <td>0.0</td>\n",
              "      <td>0.0</td>\n",
              "      <td>0.0</td>\n",
              "      <td>0.0</td>\n",
              "      <td>0.0</td>\n",
              "      <td>0.0</td>\n",
              "      <td>0.0</td>\n",
              "      <td>0.0</td>\n",
              "      <td>UEFA</td>\n",
              "      <td>1993-08-08</td>\n",
              "    </tr>\n",
              "    <tr>\n",
              "      <th>2</th>\n",
              "      <td>3</td>\n",
              "      <td>Switzerland</td>\n",
              "      <td>SUI</td>\n",
              "      <td>0.0</td>\n",
              "      <td>50</td>\n",
              "      <td>9</td>\n",
              "      <td>0.0</td>\n",
              "      <td>0.0</td>\n",
              "      <td>0.0</td>\n",
              "      <td>0.0</td>\n",
              "      <td>0.0</td>\n",
              "      <td>0.0</td>\n",
              "      <td>0.0</td>\n",
              "      <td>0.0</td>\n",
              "      <td>UEFA</td>\n",
              "      <td>1993-08-08</td>\n",
              "    </tr>\n",
              "    <tr>\n",
              "      <th>3</th>\n",
              "      <td>4</td>\n",
              "      <td>Sweden</td>\n",
              "      <td>SWE</td>\n",
              "      <td>0.0</td>\n",
              "      <td>55</td>\n",
              "      <td>0</td>\n",
              "      <td>0.0</td>\n",
              "      <td>0.0</td>\n",
              "      <td>0.0</td>\n",
              "      <td>0.0</td>\n",
              "      <td>0.0</td>\n",
              "      <td>0.0</td>\n",
              "      <td>0.0</td>\n",
              "      <td>0.0</td>\n",
              "      <td>UEFA</td>\n",
              "      <td>1993-08-08</td>\n",
              "    </tr>\n",
              "    <tr>\n",
              "      <th>4</th>\n",
              "      <td>5</td>\n",
              "      <td>Argentina</td>\n",
              "      <td>ARG</td>\n",
              "      <td>0.0</td>\n",
              "      <td>51</td>\n",
              "      <td>5</td>\n",
              "      <td>0.0</td>\n",
              "      <td>0.0</td>\n",
              "      <td>0.0</td>\n",
              "      <td>0.0</td>\n",
              "      <td>0.0</td>\n",
              "      <td>0.0</td>\n",
              "      <td>0.0</td>\n",
              "      <td>0.0</td>\n",
              "      <td>CONMEBOL</td>\n",
              "      <td>1993-08-08</td>\n",
              "    </tr>\n",
              "  </tbody>\n",
              "</table>\n",
              "</div>\n",
              "      <button class=\"colab-df-convert\" onclick=\"convertToInteractive('df-832b2bc3-d007-4e9b-ab8f-ca24bc369a42')\"\n",
              "              title=\"Convert this dataframe to an interactive table.\"\n",
              "              style=\"display:none;\">\n",
              "        \n",
              "  <svg xmlns=\"http://www.w3.org/2000/svg\" height=\"24px\"viewBox=\"0 0 24 24\"\n",
              "       width=\"24px\">\n",
              "    <path d=\"M0 0h24v24H0V0z\" fill=\"none\"/>\n",
              "    <path d=\"M18.56 5.44l.94 2.06.94-2.06 2.06-.94-2.06-.94-.94-2.06-.94 2.06-2.06.94zm-11 1L8.5 8.5l.94-2.06 2.06-.94-2.06-.94L8.5 2.5l-.94 2.06-2.06.94zm10 10l.94 2.06.94-2.06 2.06-.94-2.06-.94-.94-2.06-.94 2.06-2.06.94z\"/><path d=\"M17.41 7.96l-1.37-1.37c-.4-.4-.92-.59-1.43-.59-.52 0-1.04.2-1.43.59L10.3 9.45l-7.72 7.72c-.78.78-.78 2.05 0 2.83L4 21.41c.39.39.9.59 1.41.59.51 0 1.02-.2 1.41-.59l7.78-7.78 2.81-2.81c.8-.78.8-2.07 0-2.86zM5.41 20L4 18.59l7.72-7.72 1.47 1.35L5.41 20z\"/>\n",
              "  </svg>\n",
              "      </button>\n",
              "      \n",
              "  <style>\n",
              "    .colab-df-container {\n",
              "      display:flex;\n",
              "      flex-wrap:wrap;\n",
              "      gap: 12px;\n",
              "    }\n",
              "\n",
              "    .colab-df-convert {\n",
              "      background-color: #E8F0FE;\n",
              "      border: none;\n",
              "      border-radius: 50%;\n",
              "      cursor: pointer;\n",
              "      display: none;\n",
              "      fill: #1967D2;\n",
              "      height: 32px;\n",
              "      padding: 0 0 0 0;\n",
              "      width: 32px;\n",
              "    }\n",
              "\n",
              "    .colab-df-convert:hover {\n",
              "      background-color: #E2EBFA;\n",
              "      box-shadow: 0px 1px 2px rgba(60, 64, 67, 0.3), 0px 1px 3px 1px rgba(60, 64, 67, 0.15);\n",
              "      fill: #174EA6;\n",
              "    }\n",
              "\n",
              "    [theme=dark] .colab-df-convert {\n",
              "      background-color: #3B4455;\n",
              "      fill: #D2E3FC;\n",
              "    }\n",
              "\n",
              "    [theme=dark] .colab-df-convert:hover {\n",
              "      background-color: #434B5C;\n",
              "      box-shadow: 0px 1px 3px 1px rgba(0, 0, 0, 0.15);\n",
              "      filter: drop-shadow(0px 1px 2px rgba(0, 0, 0, 0.3));\n",
              "      fill: #FFFFFF;\n",
              "    }\n",
              "  </style>\n",
              "\n",
              "      <script>\n",
              "        const buttonEl =\n",
              "          document.querySelector('#df-832b2bc3-d007-4e9b-ab8f-ca24bc369a42 button.colab-df-convert');\n",
              "        buttonEl.style.display =\n",
              "          google.colab.kernel.accessAllowed ? 'block' : 'none';\n",
              "\n",
              "        async function convertToInteractive(key) {\n",
              "          const element = document.querySelector('#df-832b2bc3-d007-4e9b-ab8f-ca24bc369a42');\n",
              "          const dataTable =\n",
              "            await google.colab.kernel.invokeFunction('convertToInteractive',\n",
              "                                                     [key], {});\n",
              "          if (!dataTable) return;\n",
              "\n",
              "          const docLinkHtml = 'Like what you see? Visit the ' +\n",
              "            '<a target=\"_blank\" href=https://colab.research.google.com/notebooks/data_table.ipynb>data table notebook</a>'\n",
              "            + ' to learn more about interactive tables.';\n",
              "          element.innerHTML = '';\n",
              "          dataTable['output_type'] = 'display_data';\n",
              "          await google.colab.output.renderOutput(dataTable, element);\n",
              "          const docLink = document.createElement('div');\n",
              "          docLink.innerHTML = docLinkHtml;\n",
              "          element.appendChild(docLink);\n",
              "        }\n",
              "      </script>\n",
              "    </div>\n",
              "  </div>\n",
              "  "
            ]
          },
          "metadata": {},
          "execution_count": 6
        }
      ]
    },
    {
      "cell_type": "code",
      "source": [
        "# Resuts\n",
        "results.head()"
      ],
      "metadata": {
        "colab": {
          "base_uri": "https://localhost:8080/",
          "height": 206
        },
        "id": "OBvz6CDShdLy",
        "outputId": "eea01cf0-2b3e-493d-f289-04173d0d4fa4"
      },
      "execution_count": 7,
      "outputs": [
        {
          "output_type": "execute_result",
          "data": {
            "text/plain": [
              "        date home_team away_team  home_score  away_score tournament     city  \\\n",
              "0 1872-11-30  Scotland   England           0           0   Friendly  Glasgow   \n",
              "1 1873-03-08   England  Scotland           4           2   Friendly   London   \n",
              "2 1874-03-07  Scotland   England           2           1   Friendly  Glasgow   \n",
              "3 1875-03-06   England  Scotland           2           2   Friendly   London   \n",
              "4 1876-03-04  Scotland   England           3           0   Friendly  Glasgow   \n",
              "\n",
              "    country  neutral  \n",
              "0  Scotland    False  \n",
              "1   England    False  \n",
              "2  Scotland    False  \n",
              "3   England    False  \n",
              "4  Scotland    False  "
            ],
            "text/html": [
              "\n",
              "  <div id=\"df-f4e224ec-efd0-4ed3-a1fd-16f9114cc295\">\n",
              "    <div class=\"colab-df-container\">\n",
              "      <div>\n",
              "<style scoped>\n",
              "    .dataframe tbody tr th:only-of-type {\n",
              "        vertical-align: middle;\n",
              "    }\n",
              "\n",
              "    .dataframe tbody tr th {\n",
              "        vertical-align: top;\n",
              "    }\n",
              "\n",
              "    .dataframe thead th {\n",
              "        text-align: right;\n",
              "    }\n",
              "</style>\n",
              "<table border=\"1\" class=\"dataframe\">\n",
              "  <thead>\n",
              "    <tr style=\"text-align: right;\">\n",
              "      <th></th>\n",
              "      <th>date</th>\n",
              "      <th>home_team</th>\n",
              "      <th>away_team</th>\n",
              "      <th>home_score</th>\n",
              "      <th>away_score</th>\n",
              "      <th>tournament</th>\n",
              "      <th>city</th>\n",
              "      <th>country</th>\n",
              "      <th>neutral</th>\n",
              "    </tr>\n",
              "  </thead>\n",
              "  <tbody>\n",
              "    <tr>\n",
              "      <th>0</th>\n",
              "      <td>1872-11-30</td>\n",
              "      <td>Scotland</td>\n",
              "      <td>England</td>\n",
              "      <td>0</td>\n",
              "      <td>0</td>\n",
              "      <td>Friendly</td>\n",
              "      <td>Glasgow</td>\n",
              "      <td>Scotland</td>\n",
              "      <td>False</td>\n",
              "    </tr>\n",
              "    <tr>\n",
              "      <th>1</th>\n",
              "      <td>1873-03-08</td>\n",
              "      <td>England</td>\n",
              "      <td>Scotland</td>\n",
              "      <td>4</td>\n",
              "      <td>2</td>\n",
              "      <td>Friendly</td>\n",
              "      <td>London</td>\n",
              "      <td>England</td>\n",
              "      <td>False</td>\n",
              "    </tr>\n",
              "    <tr>\n",
              "      <th>2</th>\n",
              "      <td>1874-03-07</td>\n",
              "      <td>Scotland</td>\n",
              "      <td>England</td>\n",
              "      <td>2</td>\n",
              "      <td>1</td>\n",
              "      <td>Friendly</td>\n",
              "      <td>Glasgow</td>\n",
              "      <td>Scotland</td>\n",
              "      <td>False</td>\n",
              "    </tr>\n",
              "    <tr>\n",
              "      <th>3</th>\n",
              "      <td>1875-03-06</td>\n",
              "      <td>England</td>\n",
              "      <td>Scotland</td>\n",
              "      <td>2</td>\n",
              "      <td>2</td>\n",
              "      <td>Friendly</td>\n",
              "      <td>London</td>\n",
              "      <td>England</td>\n",
              "      <td>False</td>\n",
              "    </tr>\n",
              "    <tr>\n",
              "      <th>4</th>\n",
              "      <td>1876-03-04</td>\n",
              "      <td>Scotland</td>\n",
              "      <td>England</td>\n",
              "      <td>3</td>\n",
              "      <td>0</td>\n",
              "      <td>Friendly</td>\n",
              "      <td>Glasgow</td>\n",
              "      <td>Scotland</td>\n",
              "      <td>False</td>\n",
              "    </tr>\n",
              "  </tbody>\n",
              "</table>\n",
              "</div>\n",
              "      <button class=\"colab-df-convert\" onclick=\"convertToInteractive('df-f4e224ec-efd0-4ed3-a1fd-16f9114cc295')\"\n",
              "              title=\"Convert this dataframe to an interactive table.\"\n",
              "              style=\"display:none;\">\n",
              "        \n",
              "  <svg xmlns=\"http://www.w3.org/2000/svg\" height=\"24px\"viewBox=\"0 0 24 24\"\n",
              "       width=\"24px\">\n",
              "    <path d=\"M0 0h24v24H0V0z\" fill=\"none\"/>\n",
              "    <path d=\"M18.56 5.44l.94 2.06.94-2.06 2.06-.94-2.06-.94-.94-2.06-.94 2.06-2.06.94zm-11 1L8.5 8.5l.94-2.06 2.06-.94-2.06-.94L8.5 2.5l-.94 2.06-2.06.94zm10 10l.94 2.06.94-2.06 2.06-.94-2.06-.94-.94-2.06-.94 2.06-2.06.94z\"/><path d=\"M17.41 7.96l-1.37-1.37c-.4-.4-.92-.59-1.43-.59-.52 0-1.04.2-1.43.59L10.3 9.45l-7.72 7.72c-.78.78-.78 2.05 0 2.83L4 21.41c.39.39.9.59 1.41.59.51 0 1.02-.2 1.41-.59l7.78-7.78 2.81-2.81c.8-.78.8-2.07 0-2.86zM5.41 20L4 18.59l7.72-7.72 1.47 1.35L5.41 20z\"/>\n",
              "  </svg>\n",
              "      </button>\n",
              "      \n",
              "  <style>\n",
              "    .colab-df-container {\n",
              "      display:flex;\n",
              "      flex-wrap:wrap;\n",
              "      gap: 12px;\n",
              "    }\n",
              "\n",
              "    .colab-df-convert {\n",
              "      background-color: #E8F0FE;\n",
              "      border: none;\n",
              "      border-radius: 50%;\n",
              "      cursor: pointer;\n",
              "      display: none;\n",
              "      fill: #1967D2;\n",
              "      height: 32px;\n",
              "      padding: 0 0 0 0;\n",
              "      width: 32px;\n",
              "    }\n",
              "\n",
              "    .colab-df-convert:hover {\n",
              "      background-color: #E2EBFA;\n",
              "      box-shadow: 0px 1px 2px rgba(60, 64, 67, 0.3), 0px 1px 3px 1px rgba(60, 64, 67, 0.15);\n",
              "      fill: #174EA6;\n",
              "    }\n",
              "\n",
              "    [theme=dark] .colab-df-convert {\n",
              "      background-color: #3B4455;\n",
              "      fill: #D2E3FC;\n",
              "    }\n",
              "\n",
              "    [theme=dark] .colab-df-convert:hover {\n",
              "      background-color: #434B5C;\n",
              "      box-shadow: 0px 1px 3px 1px rgba(0, 0, 0, 0.15);\n",
              "      filter: drop-shadow(0px 1px 2px rgba(0, 0, 0, 0.3));\n",
              "      fill: #FFFFFF;\n",
              "    }\n",
              "  </style>\n",
              "\n",
              "      <script>\n",
              "        const buttonEl =\n",
              "          document.querySelector('#df-f4e224ec-efd0-4ed3-a1fd-16f9114cc295 button.colab-df-convert');\n",
              "        buttonEl.style.display =\n",
              "          google.colab.kernel.accessAllowed ? 'block' : 'none';\n",
              "\n",
              "        async function convertToInteractive(key) {\n",
              "          const element = document.querySelector('#df-f4e224ec-efd0-4ed3-a1fd-16f9114cc295');\n",
              "          const dataTable =\n",
              "            await google.colab.kernel.invokeFunction('convertToInteractive',\n",
              "                                                     [key], {});\n",
              "          if (!dataTable) return;\n",
              "\n",
              "          const docLinkHtml = 'Like what you see? Visit the ' +\n",
              "            '<a target=\"_blank\" href=https://colab.research.google.com/notebooks/data_table.ipynb>data table notebook</a>'\n",
              "            + ' to learn more about interactive tables.';\n",
              "          element.innerHTML = '';\n",
              "          dataTable['output_type'] = 'display_data';\n",
              "          await google.colab.output.renderOutput(dataTable, element);\n",
              "          const docLink = document.createElement('div');\n",
              "          docLink.innerHTML = docLinkHtml;\n",
              "          element.appendChild(docLink);\n",
              "        }\n",
              "      </script>\n",
              "    </div>\n",
              "  </div>\n",
              "  "
            ]
          },
          "metadata": {},
          "execution_count": 7
        }
      ]
    },
    {
      "cell_type": "markdown",
      "source": [
        "**Dataset bottom preview**"
      ],
      "metadata": {
        "id": "o2MjhGZziWuE"
      }
    },
    {
      "cell_type": "code",
      "metadata": {
        "id": "e9AzGcZFrIIr",
        "colab": {
          "base_uri": "https://localhost:8080/",
          "height": 357
        },
        "outputId": "8522df79-2f8d-498a-aa22-58cba19d4f17"
      },
      "source": [
        "# Previewing the bottom of our dataset\n",
        "# FIFA\n",
        "fifa.tail()"
      ],
      "execution_count": 8,
      "outputs": [
        {
          "output_type": "execute_result",
          "data": {
            "text/plain": [
              "       rank country_full country_abrv  total_points  previous_points  \\\n",
              "57788   206     Anguilla          AIA           0.0                0   \n",
              "57789   206      Bahamas          BAH           0.0                0   \n",
              "57790   206      Eritrea          ERI           0.0                0   \n",
              "57791   206      Somalia          SOM           0.0                0   \n",
              "57792   206        Tonga          TGA           0.0                0   \n",
              "\n",
              "       rank_change  cur_year_avg  cur_year_avg_weighted  last_year_avg  \\\n",
              "57788            1           0.0                    0.0            0.0   \n",
              "57789            1           0.0                    0.0            0.0   \n",
              "57790            1           0.0                    0.0            0.0   \n",
              "57791            1           0.0                    0.0            0.0   \n",
              "57792            1           0.0                    0.0            0.0   \n",
              "\n",
              "       last_year_avg_weighted  two_year_ago_avg  two_year_ago_weighted  \\\n",
              "57788                     0.0               0.0                    0.0   \n",
              "57789                     0.0               0.0                    0.0   \n",
              "57790                     0.0               0.0                    0.0   \n",
              "57791                     0.0               0.0                    0.0   \n",
              "57792                     0.0               0.0                    0.0   \n",
              "\n",
              "       three_year_ago_avg  three_year_ago_weighted confederation  rank_date  \n",
              "57788                 0.0                      0.0      CONCACAF 2018-06-07  \n",
              "57789                 0.0                      0.0      CONCACAF 2018-06-07  \n",
              "57790                 0.0                      0.0           CAF 2018-06-07  \n",
              "57791                 0.0                      0.0           CAF 2018-06-07  \n",
              "57792                 0.0                      0.0           OFC 2018-06-07  "
            ],
            "text/html": [
              "\n",
              "  <div id=\"df-e8c1be8e-c0fe-4eef-83e3-d390cb08e722\">\n",
              "    <div class=\"colab-df-container\">\n",
              "      <div>\n",
              "<style scoped>\n",
              "    .dataframe tbody tr th:only-of-type {\n",
              "        vertical-align: middle;\n",
              "    }\n",
              "\n",
              "    .dataframe tbody tr th {\n",
              "        vertical-align: top;\n",
              "    }\n",
              "\n",
              "    .dataframe thead th {\n",
              "        text-align: right;\n",
              "    }\n",
              "</style>\n",
              "<table border=\"1\" class=\"dataframe\">\n",
              "  <thead>\n",
              "    <tr style=\"text-align: right;\">\n",
              "      <th></th>\n",
              "      <th>rank</th>\n",
              "      <th>country_full</th>\n",
              "      <th>country_abrv</th>\n",
              "      <th>total_points</th>\n",
              "      <th>previous_points</th>\n",
              "      <th>rank_change</th>\n",
              "      <th>cur_year_avg</th>\n",
              "      <th>cur_year_avg_weighted</th>\n",
              "      <th>last_year_avg</th>\n",
              "      <th>last_year_avg_weighted</th>\n",
              "      <th>two_year_ago_avg</th>\n",
              "      <th>two_year_ago_weighted</th>\n",
              "      <th>three_year_ago_avg</th>\n",
              "      <th>three_year_ago_weighted</th>\n",
              "      <th>confederation</th>\n",
              "      <th>rank_date</th>\n",
              "    </tr>\n",
              "  </thead>\n",
              "  <tbody>\n",
              "    <tr>\n",
              "      <th>57788</th>\n",
              "      <td>206</td>\n",
              "      <td>Anguilla</td>\n",
              "      <td>AIA</td>\n",
              "      <td>0.0</td>\n",
              "      <td>0</td>\n",
              "      <td>1</td>\n",
              "      <td>0.0</td>\n",
              "      <td>0.0</td>\n",
              "      <td>0.0</td>\n",
              "      <td>0.0</td>\n",
              "      <td>0.0</td>\n",
              "      <td>0.0</td>\n",
              "      <td>0.0</td>\n",
              "      <td>0.0</td>\n",
              "      <td>CONCACAF</td>\n",
              "      <td>2018-06-07</td>\n",
              "    </tr>\n",
              "    <tr>\n",
              "      <th>57789</th>\n",
              "      <td>206</td>\n",
              "      <td>Bahamas</td>\n",
              "      <td>BAH</td>\n",
              "      <td>0.0</td>\n",
              "      <td>0</td>\n",
              "      <td>1</td>\n",
              "      <td>0.0</td>\n",
              "      <td>0.0</td>\n",
              "      <td>0.0</td>\n",
              "      <td>0.0</td>\n",
              "      <td>0.0</td>\n",
              "      <td>0.0</td>\n",
              "      <td>0.0</td>\n",
              "      <td>0.0</td>\n",
              "      <td>CONCACAF</td>\n",
              "      <td>2018-06-07</td>\n",
              "    </tr>\n",
              "    <tr>\n",
              "      <th>57790</th>\n",
              "      <td>206</td>\n",
              "      <td>Eritrea</td>\n",
              "      <td>ERI</td>\n",
              "      <td>0.0</td>\n",
              "      <td>0</td>\n",
              "      <td>1</td>\n",
              "      <td>0.0</td>\n",
              "      <td>0.0</td>\n",
              "      <td>0.0</td>\n",
              "      <td>0.0</td>\n",
              "      <td>0.0</td>\n",
              "      <td>0.0</td>\n",
              "      <td>0.0</td>\n",
              "      <td>0.0</td>\n",
              "      <td>CAF</td>\n",
              "      <td>2018-06-07</td>\n",
              "    </tr>\n",
              "    <tr>\n",
              "      <th>57791</th>\n",
              "      <td>206</td>\n",
              "      <td>Somalia</td>\n",
              "      <td>SOM</td>\n",
              "      <td>0.0</td>\n",
              "      <td>0</td>\n",
              "      <td>1</td>\n",
              "      <td>0.0</td>\n",
              "      <td>0.0</td>\n",
              "      <td>0.0</td>\n",
              "      <td>0.0</td>\n",
              "      <td>0.0</td>\n",
              "      <td>0.0</td>\n",
              "      <td>0.0</td>\n",
              "      <td>0.0</td>\n",
              "      <td>CAF</td>\n",
              "      <td>2018-06-07</td>\n",
              "    </tr>\n",
              "    <tr>\n",
              "      <th>57792</th>\n",
              "      <td>206</td>\n",
              "      <td>Tonga</td>\n",
              "      <td>TGA</td>\n",
              "      <td>0.0</td>\n",
              "      <td>0</td>\n",
              "      <td>1</td>\n",
              "      <td>0.0</td>\n",
              "      <td>0.0</td>\n",
              "      <td>0.0</td>\n",
              "      <td>0.0</td>\n",
              "      <td>0.0</td>\n",
              "      <td>0.0</td>\n",
              "      <td>0.0</td>\n",
              "      <td>0.0</td>\n",
              "      <td>OFC</td>\n",
              "      <td>2018-06-07</td>\n",
              "    </tr>\n",
              "  </tbody>\n",
              "</table>\n",
              "</div>\n",
              "      <button class=\"colab-df-convert\" onclick=\"convertToInteractive('df-e8c1be8e-c0fe-4eef-83e3-d390cb08e722')\"\n",
              "              title=\"Convert this dataframe to an interactive table.\"\n",
              "              style=\"display:none;\">\n",
              "        \n",
              "  <svg xmlns=\"http://www.w3.org/2000/svg\" height=\"24px\"viewBox=\"0 0 24 24\"\n",
              "       width=\"24px\">\n",
              "    <path d=\"M0 0h24v24H0V0z\" fill=\"none\"/>\n",
              "    <path d=\"M18.56 5.44l.94 2.06.94-2.06 2.06-.94-2.06-.94-.94-2.06-.94 2.06-2.06.94zm-11 1L8.5 8.5l.94-2.06 2.06-.94-2.06-.94L8.5 2.5l-.94 2.06-2.06.94zm10 10l.94 2.06.94-2.06 2.06-.94-2.06-.94-.94-2.06-.94 2.06-2.06.94z\"/><path d=\"M17.41 7.96l-1.37-1.37c-.4-.4-.92-.59-1.43-.59-.52 0-1.04.2-1.43.59L10.3 9.45l-7.72 7.72c-.78.78-.78 2.05 0 2.83L4 21.41c.39.39.9.59 1.41.59.51 0 1.02-.2 1.41-.59l7.78-7.78 2.81-2.81c.8-.78.8-2.07 0-2.86zM5.41 20L4 18.59l7.72-7.72 1.47 1.35L5.41 20z\"/>\n",
              "  </svg>\n",
              "      </button>\n",
              "      \n",
              "  <style>\n",
              "    .colab-df-container {\n",
              "      display:flex;\n",
              "      flex-wrap:wrap;\n",
              "      gap: 12px;\n",
              "    }\n",
              "\n",
              "    .colab-df-convert {\n",
              "      background-color: #E8F0FE;\n",
              "      border: none;\n",
              "      border-radius: 50%;\n",
              "      cursor: pointer;\n",
              "      display: none;\n",
              "      fill: #1967D2;\n",
              "      height: 32px;\n",
              "      padding: 0 0 0 0;\n",
              "      width: 32px;\n",
              "    }\n",
              "\n",
              "    .colab-df-convert:hover {\n",
              "      background-color: #E2EBFA;\n",
              "      box-shadow: 0px 1px 2px rgba(60, 64, 67, 0.3), 0px 1px 3px 1px rgba(60, 64, 67, 0.15);\n",
              "      fill: #174EA6;\n",
              "    }\n",
              "\n",
              "    [theme=dark] .colab-df-convert {\n",
              "      background-color: #3B4455;\n",
              "      fill: #D2E3FC;\n",
              "    }\n",
              "\n",
              "    [theme=dark] .colab-df-convert:hover {\n",
              "      background-color: #434B5C;\n",
              "      box-shadow: 0px 1px 3px 1px rgba(0, 0, 0, 0.15);\n",
              "      filter: drop-shadow(0px 1px 2px rgba(0, 0, 0, 0.3));\n",
              "      fill: #FFFFFF;\n",
              "    }\n",
              "  </style>\n",
              "\n",
              "      <script>\n",
              "        const buttonEl =\n",
              "          document.querySelector('#df-e8c1be8e-c0fe-4eef-83e3-d390cb08e722 button.colab-df-convert');\n",
              "        buttonEl.style.display =\n",
              "          google.colab.kernel.accessAllowed ? 'block' : 'none';\n",
              "\n",
              "        async function convertToInteractive(key) {\n",
              "          const element = document.querySelector('#df-e8c1be8e-c0fe-4eef-83e3-d390cb08e722');\n",
              "          const dataTable =\n",
              "            await google.colab.kernel.invokeFunction('convertToInteractive',\n",
              "                                                     [key], {});\n",
              "          if (!dataTable) return;\n",
              "\n",
              "          const docLinkHtml = 'Like what you see? Visit the ' +\n",
              "            '<a target=\"_blank\" href=https://colab.research.google.com/notebooks/data_table.ipynb>data table notebook</a>'\n",
              "            + ' to learn more about interactive tables.';\n",
              "          element.innerHTML = '';\n",
              "          dataTable['output_type'] = 'display_data';\n",
              "          await google.colab.output.renderOutput(dataTable, element);\n",
              "          const docLink = document.createElement('div');\n",
              "          docLink.innerHTML = docLinkHtml;\n",
              "          element.appendChild(docLink);\n",
              "        }\n",
              "      </script>\n",
              "    </div>\n",
              "  </div>\n",
              "  "
            ]
          },
          "metadata": {},
          "execution_count": 8
        }
      ]
    },
    {
      "cell_type": "code",
      "source": [
        "# Results\n",
        "results.tail()"
      ],
      "metadata": {
        "colab": {
          "base_uri": "https://localhost:8080/",
          "height": 206
        },
        "id": "GDG0ypaThxWh",
        "outputId": "e4e5b2b9-ea72-4455-e2dd-19d487af187a"
      },
      "execution_count": 9,
      "outputs": [
        {
          "output_type": "execute_result",
          "data": {
            "text/plain": [
              "            date         home_team        away_team  home_score  away_score  \\\n",
              "40834 2019-07-18    American Samoa           Tahiti           8           1   \n",
              "40835 2019-07-18              Fiji  Solomon Islands           4           4   \n",
              "40836 2019-07-19           Senegal          Algeria           0           1   \n",
              "40837 2019-07-19        Tajikistan      North Korea           0           1   \n",
              "40838 2019-07-20  Papua New Guinea             Fiji           1           1   \n",
              "\n",
              "                   tournament       city country  neutral  \n",
              "40834           Pacific Games       Apia   Samoa     True  \n",
              "40835           Pacific Games       Apia   Samoa     True  \n",
              "40836  African Cup of Nations      Cairo   Egypt     True  \n",
              "40837    Intercontinental Cup  Ahmedabad   India     True  \n",
              "40838           Pacific Games       Apia   Samoa     True  "
            ],
            "text/html": [
              "\n",
              "  <div id=\"df-95ad52ab-0463-4a73-affb-af04a0748d9a\">\n",
              "    <div class=\"colab-df-container\">\n",
              "      <div>\n",
              "<style scoped>\n",
              "    .dataframe tbody tr th:only-of-type {\n",
              "        vertical-align: middle;\n",
              "    }\n",
              "\n",
              "    .dataframe tbody tr th {\n",
              "        vertical-align: top;\n",
              "    }\n",
              "\n",
              "    .dataframe thead th {\n",
              "        text-align: right;\n",
              "    }\n",
              "</style>\n",
              "<table border=\"1\" class=\"dataframe\">\n",
              "  <thead>\n",
              "    <tr style=\"text-align: right;\">\n",
              "      <th></th>\n",
              "      <th>date</th>\n",
              "      <th>home_team</th>\n",
              "      <th>away_team</th>\n",
              "      <th>home_score</th>\n",
              "      <th>away_score</th>\n",
              "      <th>tournament</th>\n",
              "      <th>city</th>\n",
              "      <th>country</th>\n",
              "      <th>neutral</th>\n",
              "    </tr>\n",
              "  </thead>\n",
              "  <tbody>\n",
              "    <tr>\n",
              "      <th>40834</th>\n",
              "      <td>2019-07-18</td>\n",
              "      <td>American Samoa</td>\n",
              "      <td>Tahiti</td>\n",
              "      <td>8</td>\n",
              "      <td>1</td>\n",
              "      <td>Pacific Games</td>\n",
              "      <td>Apia</td>\n",
              "      <td>Samoa</td>\n",
              "      <td>True</td>\n",
              "    </tr>\n",
              "    <tr>\n",
              "      <th>40835</th>\n",
              "      <td>2019-07-18</td>\n",
              "      <td>Fiji</td>\n",
              "      <td>Solomon Islands</td>\n",
              "      <td>4</td>\n",
              "      <td>4</td>\n",
              "      <td>Pacific Games</td>\n",
              "      <td>Apia</td>\n",
              "      <td>Samoa</td>\n",
              "      <td>True</td>\n",
              "    </tr>\n",
              "    <tr>\n",
              "      <th>40836</th>\n",
              "      <td>2019-07-19</td>\n",
              "      <td>Senegal</td>\n",
              "      <td>Algeria</td>\n",
              "      <td>0</td>\n",
              "      <td>1</td>\n",
              "      <td>African Cup of Nations</td>\n",
              "      <td>Cairo</td>\n",
              "      <td>Egypt</td>\n",
              "      <td>True</td>\n",
              "    </tr>\n",
              "    <tr>\n",
              "      <th>40837</th>\n",
              "      <td>2019-07-19</td>\n",
              "      <td>Tajikistan</td>\n",
              "      <td>North Korea</td>\n",
              "      <td>0</td>\n",
              "      <td>1</td>\n",
              "      <td>Intercontinental Cup</td>\n",
              "      <td>Ahmedabad</td>\n",
              "      <td>India</td>\n",
              "      <td>True</td>\n",
              "    </tr>\n",
              "    <tr>\n",
              "      <th>40838</th>\n",
              "      <td>2019-07-20</td>\n",
              "      <td>Papua New Guinea</td>\n",
              "      <td>Fiji</td>\n",
              "      <td>1</td>\n",
              "      <td>1</td>\n",
              "      <td>Pacific Games</td>\n",
              "      <td>Apia</td>\n",
              "      <td>Samoa</td>\n",
              "      <td>True</td>\n",
              "    </tr>\n",
              "  </tbody>\n",
              "</table>\n",
              "</div>\n",
              "      <button class=\"colab-df-convert\" onclick=\"convertToInteractive('df-95ad52ab-0463-4a73-affb-af04a0748d9a')\"\n",
              "              title=\"Convert this dataframe to an interactive table.\"\n",
              "              style=\"display:none;\">\n",
              "        \n",
              "  <svg xmlns=\"http://www.w3.org/2000/svg\" height=\"24px\"viewBox=\"0 0 24 24\"\n",
              "       width=\"24px\">\n",
              "    <path d=\"M0 0h24v24H0V0z\" fill=\"none\"/>\n",
              "    <path d=\"M18.56 5.44l.94 2.06.94-2.06 2.06-.94-2.06-.94-.94-2.06-.94 2.06-2.06.94zm-11 1L8.5 8.5l.94-2.06 2.06-.94-2.06-.94L8.5 2.5l-.94 2.06-2.06.94zm10 10l.94 2.06.94-2.06 2.06-.94-2.06-.94-.94-2.06-.94 2.06-2.06.94z\"/><path d=\"M17.41 7.96l-1.37-1.37c-.4-.4-.92-.59-1.43-.59-.52 0-1.04.2-1.43.59L10.3 9.45l-7.72 7.72c-.78.78-.78 2.05 0 2.83L4 21.41c.39.39.9.59 1.41.59.51 0 1.02-.2 1.41-.59l7.78-7.78 2.81-2.81c.8-.78.8-2.07 0-2.86zM5.41 20L4 18.59l7.72-7.72 1.47 1.35L5.41 20z\"/>\n",
              "  </svg>\n",
              "      </button>\n",
              "      \n",
              "  <style>\n",
              "    .colab-df-container {\n",
              "      display:flex;\n",
              "      flex-wrap:wrap;\n",
              "      gap: 12px;\n",
              "    }\n",
              "\n",
              "    .colab-df-convert {\n",
              "      background-color: #E8F0FE;\n",
              "      border: none;\n",
              "      border-radius: 50%;\n",
              "      cursor: pointer;\n",
              "      display: none;\n",
              "      fill: #1967D2;\n",
              "      height: 32px;\n",
              "      padding: 0 0 0 0;\n",
              "      width: 32px;\n",
              "    }\n",
              "\n",
              "    .colab-df-convert:hover {\n",
              "      background-color: #E2EBFA;\n",
              "      box-shadow: 0px 1px 2px rgba(60, 64, 67, 0.3), 0px 1px 3px 1px rgba(60, 64, 67, 0.15);\n",
              "      fill: #174EA6;\n",
              "    }\n",
              "\n",
              "    [theme=dark] .colab-df-convert {\n",
              "      background-color: #3B4455;\n",
              "      fill: #D2E3FC;\n",
              "    }\n",
              "\n",
              "    [theme=dark] .colab-df-convert:hover {\n",
              "      background-color: #434B5C;\n",
              "      box-shadow: 0px 1px 3px 1px rgba(0, 0, 0, 0.15);\n",
              "      filter: drop-shadow(0px 1px 2px rgba(0, 0, 0, 0.3));\n",
              "      fill: #FFFFFF;\n",
              "    }\n",
              "  </style>\n",
              "\n",
              "      <script>\n",
              "        const buttonEl =\n",
              "          document.querySelector('#df-95ad52ab-0463-4a73-affb-af04a0748d9a button.colab-df-convert');\n",
              "        buttonEl.style.display =\n",
              "          google.colab.kernel.accessAllowed ? 'block' : 'none';\n",
              "\n",
              "        async function convertToInteractive(key) {\n",
              "          const element = document.querySelector('#df-95ad52ab-0463-4a73-affb-af04a0748d9a');\n",
              "          const dataTable =\n",
              "            await google.colab.kernel.invokeFunction('convertToInteractive',\n",
              "                                                     [key], {});\n",
              "          if (!dataTable) return;\n",
              "\n",
              "          const docLinkHtml = 'Like what you see? Visit the ' +\n",
              "            '<a target=\"_blank\" href=https://colab.research.google.com/notebooks/data_table.ipynb>data table notebook</a>'\n",
              "            + ' to learn more about interactive tables.';\n",
              "          element.innerHTML = '';\n",
              "          dataTable['output_type'] = 'display_data';\n",
              "          await google.colab.output.renderOutput(dataTable, element);\n",
              "          const docLink = document.createElement('div');\n",
              "          docLink.innerHTML = docLinkHtml;\n",
              "          element.appendChild(docLink);\n",
              "        }\n",
              "      </script>\n",
              "    </div>\n",
              "  </div>\n",
              "  "
            ]
          },
          "metadata": {},
          "execution_count": 9
        }
      ]
    },
    {
      "cell_type": "markdown",
      "source": [
        "**Checking datatypes**"
      ],
      "metadata": {
        "id": "BrZK3zQZianO"
      }
    },
    {
      "cell_type": "code",
      "metadata": {
        "id": "n8-dW4sQWzbc",
        "colab": {
          "base_uri": "https://localhost:8080/"
        },
        "outputId": "9c14ddb1-5a30-4b3e-eb30-f8d4b6cbe2e2"
      },
      "source": [
        "# Checking whether each column has an appropriate datatype\n",
        "# FIFA \n",
        "fifa.info()\n"
      ],
      "execution_count": 10,
      "outputs": [
        {
          "output_type": "stream",
          "name": "stdout",
          "text": [
            "<class 'pandas.core.frame.DataFrame'>\n",
            "RangeIndex: 57793 entries, 0 to 57792\n",
            "Data columns (total 16 columns):\n",
            " #   Column                   Non-Null Count  Dtype         \n",
            "---  ------                   --------------  -----         \n",
            " 0   rank                     57793 non-null  int64         \n",
            " 1   country_full             57793 non-null  object        \n",
            " 2   country_abrv             57793 non-null  object        \n",
            " 3   total_points             57793 non-null  float64       \n",
            " 4   previous_points          57793 non-null  int64         \n",
            " 5   rank_change              57793 non-null  int64         \n",
            " 6   cur_year_avg             57793 non-null  float64       \n",
            " 7   cur_year_avg_weighted    57793 non-null  float64       \n",
            " 8   last_year_avg            57793 non-null  float64       \n",
            " 9   last_year_avg_weighted   57793 non-null  float64       \n",
            " 10  two_year_ago_avg         57793 non-null  float64       \n",
            " 11  two_year_ago_weighted    57793 non-null  float64       \n",
            " 12  three_year_ago_avg       57793 non-null  float64       \n",
            " 13  three_year_ago_weighted  57793 non-null  float64       \n",
            " 14  confederation            57793 non-null  object        \n",
            " 15  rank_date                57793 non-null  datetime64[ns]\n",
            "dtypes: datetime64[ns](1), float64(9), int64(3), object(3)\n",
            "memory usage: 7.1+ MB\n"
          ]
        }
      ]
    },
    {
      "cell_type": "code",
      "source": [
        "# Results dataset\n",
        "results.info()"
      ],
      "metadata": {
        "colab": {
          "base_uri": "https://localhost:8080/"
        },
        "id": "eWo-vcAIio1r",
        "outputId": "4f70f477-2de1-4259-daea-0e728aa8dbfc"
      },
      "execution_count": 11,
      "outputs": [
        {
          "output_type": "stream",
          "name": "stdout",
          "text": [
            "<class 'pandas.core.frame.DataFrame'>\n",
            "RangeIndex: 40839 entries, 0 to 40838\n",
            "Data columns (total 9 columns):\n",
            " #   Column      Non-Null Count  Dtype         \n",
            "---  ------      --------------  -----         \n",
            " 0   date        40839 non-null  datetime64[ns]\n",
            " 1   home_team   40839 non-null  object        \n",
            " 2   away_team   40839 non-null  object        \n",
            " 3   home_score  40839 non-null  int64         \n",
            " 4   away_score  40839 non-null  int64         \n",
            " 5   tournament  40839 non-null  object        \n",
            " 6   city        40839 non-null  object        \n",
            " 7   country     40839 non-null  object        \n",
            " 8   neutral     40839 non-null  bool          \n",
            "dtypes: bool(1), datetime64[ns](1), int64(2), object(5)\n",
            "memory usage: 2.5+ MB\n"
          ]
        }
      ]
    },
    {
      "cell_type": "markdown",
      "source": [
        "No datatypes need to be changed."
      ],
      "metadata": {
        "id": "GqBbuCwwmrsh"
      }
    },
    {
      "cell_type": "markdown",
      "metadata": {
        "id": "ckfufNrcUHeH"
      },
      "source": [
        "## 4. External Data Source Validation"
      ]
    },
    {
      "cell_type": "markdown",
      "metadata": {
        "id": "6L4sl_0WXlbg"
      },
      "source": [
        "Making sure your data matches something outside of the dataset is very important. It allows you to ensure that the measurements are roughly in line with what they should be and it serves as a check on what other things might be wrong in your dataset. External validation can often be as simple as checking your data against a single number, as we will do here."
      ]
    },
    {
      "cell_type": "markdown",
      "metadata": {
        "id": "FlBMxEDBUc9B"
      },
      "source": [
        "## 5. Data Preperation"
      ]
    },
    {
      "cell_type": "markdown",
      "metadata": {
        "id": "6XC_g-zKxe-r"
      },
      "source": [
        "### a.Validation"
      ]
    },
    {
      "cell_type": "markdown",
      "source": [
        "**Column relevance**"
      ],
      "metadata": {
        "id": "WMZf4x-9nAhO"
      }
    },
    {
      "cell_type": "code",
      "source": [
        "# Checking for irrelevant columns\n",
        "# FIFA dataset\n",
        "fifa.columns"
      ],
      "metadata": {
        "colab": {
          "base_uri": "https://localhost:8080/"
        },
        "id": "-p2IGj1zm1ZV",
        "outputId": "8fa34f3b-a803-4b95-d2f8-b31638f976d5"
      },
      "execution_count": 12,
      "outputs": [
        {
          "output_type": "execute_result",
          "data": {
            "text/plain": [
              "Index(['rank', 'country_full', 'country_abrv', 'total_points',\n",
              "       'previous_points', 'rank_change', 'cur_year_avg',\n",
              "       'cur_year_avg_weighted', 'last_year_avg', 'last_year_avg_weighted',\n",
              "       'two_year_ago_avg', 'two_year_ago_weighted', 'three_year_ago_avg',\n",
              "       'three_year_ago_weighted', 'confederation', 'rank_date'],\n",
              "      dtype='object')"
            ]
          },
          "metadata": {},
          "execution_count": 12
        }
      ]
    },
    {
      "cell_type": "code",
      "source": [
        "# Results dataste\n",
        "results.columns"
      ],
      "metadata": {
        "colab": {
          "base_uri": "https://localhost:8080/"
        },
        "id": "bZ7qOcM5m9I-",
        "outputId": "4eef216c-f28e-4150-c46e-8a7859202845"
      },
      "execution_count": 13,
      "outputs": [
        {
          "output_type": "execute_result",
          "data": {
            "text/plain": [
              "Index(['date', 'home_team', 'away_team', 'home_score', 'away_score',\n",
              "       'tournament', 'city', 'country', 'neutral'],\n",
              "      dtype='object')"
            ]
          },
          "metadata": {},
          "execution_count": 13
        }
      ]
    },
    {
      "cell_type": "markdown",
      "source": [
        "There are no irrelevant columns."
      ],
      "metadata": {
        "id": "z8LWx1gbwCZw"
      }
    },
    {
      "cell_type": "markdown",
      "source": [
        "### b. Completeness"
      ],
      "metadata": {
        "id": "DJpq-Ke8wctl"
      }
    },
    {
      "cell_type": "code",
      "source": [
        "# Checking for missing values\n",
        "# FIFA dataset\n",
        "fifa.isnull().any().any()"
      ],
      "metadata": {
        "colab": {
          "base_uri": "https://localhost:8080/"
        },
        "id": "WuOpq9TdwZtv",
        "outputId": "56cff00b-82c3-4109-98a9-e7502aa77d14"
      },
      "execution_count": 14,
      "outputs": [
        {
          "output_type": "execute_result",
          "data": {
            "text/plain": [
              "False"
            ]
          },
          "metadata": {},
          "execution_count": 14
        }
      ]
    },
    {
      "cell_type": "code",
      "source": [
        "# Results dataset\n",
        "results.isnull().any().any()"
      ],
      "metadata": {
        "colab": {
          "base_uri": "https://localhost:8080/"
        },
        "id": "mtX3QP_hwyaV",
        "outputId": "df68dc76-8573-48da-af38-0d36a957fbba"
      },
      "execution_count": 15,
      "outputs": [
        {
          "output_type": "execute_result",
          "data": {
            "text/plain": [
              "False"
            ]
          },
          "metadata": {},
          "execution_count": 15
        }
      ]
    },
    {
      "cell_type": "markdown",
      "source": [
        "There are no missing values."
      ],
      "metadata": {
        "id": "pXkkL0qhw7kX"
      }
    },
    {
      "cell_type": "markdown",
      "source": [
        "### c. Consistency"
      ],
      "metadata": {
        "id": "VarhGWsVxLeX"
      }
    },
    {
      "cell_type": "code",
      "source": [
        "# Checking for duplicates\n",
        "# FIFA dataset\n",
        "fifa.duplicated().any().any()"
      ],
      "metadata": {
        "colab": {
          "base_uri": "https://localhost:8080/"
        },
        "id": "yzzLaRlhxQjV",
        "outputId": "7cf43743-466f-41e5-d1f2-46d92fdcd0fc"
      },
      "execution_count": 16,
      "outputs": [
        {
          "output_type": "execute_result",
          "data": {
            "text/plain": [
              "True"
            ]
          },
          "metadata": {},
          "execution_count": 16
        }
      ]
    },
    {
      "cell_type": "code",
      "source": [
        "# Dropping duplicates\n",
        "fifa.drop_duplicates(inplace = True)\n",
        "# Checking changes\n",
        "fifa.duplicated().any().any()"
      ],
      "metadata": {
        "colab": {
          "base_uri": "https://localhost:8080/"
        },
        "id": "1KoJSFQPxpZ7",
        "outputId": "dd5ebe13-5cab-4bcd-d424-d2515aaa9556"
      },
      "execution_count": 17,
      "outputs": [
        {
          "output_type": "execute_result",
          "data": {
            "text/plain": [
              "False"
            ]
          },
          "metadata": {},
          "execution_count": 17
        }
      ]
    },
    {
      "cell_type": "code",
      "source": [
        "# Results dataset\n",
        "results.duplicated().any().any()"
      ],
      "metadata": {
        "colab": {
          "base_uri": "https://localhost:8080/"
        },
        "id": "h9n0efv2xbN3",
        "outputId": "7c9c6b53-dad2-4db6-d818-0cdd9545caaa"
      },
      "execution_count": 18,
      "outputs": [
        {
          "output_type": "execute_result",
          "data": {
            "text/plain": [
              "False"
            ]
          },
          "metadata": {},
          "execution_count": 18
        }
      ]
    },
    {
      "cell_type": "markdown",
      "source": [
        "### d. Uniformity"
      ],
      "metadata": {
        "id": "pZcrRsOnycjc"
      }
    },
    {
      "cell_type": "code",
      "source": [
        "# Checking column names\n",
        "# FIFA dataset\n",
        "fifa.columns"
      ],
      "metadata": {
        "colab": {
          "base_uri": "https://localhost:8080/"
        },
        "id": "b0zB_8iFyh9M",
        "outputId": "8229db34-55ae-4655-f39b-03ca009a6812"
      },
      "execution_count": 19,
      "outputs": [
        {
          "output_type": "execute_result",
          "data": {
            "text/plain": [
              "Index(['rank', 'country_full', 'country_abrv', 'total_points',\n",
              "       'previous_points', 'rank_change', 'cur_year_avg',\n",
              "       'cur_year_avg_weighted', 'last_year_avg', 'last_year_avg_weighted',\n",
              "       'two_year_ago_avg', 'two_year_ago_weighted', 'three_year_ago_avg',\n",
              "       'three_year_ago_weighted', 'confederation', 'rank_date'],\n",
              "      dtype='object')"
            ]
          },
          "metadata": {},
          "execution_count": 19
        }
      ]
    },
    {
      "cell_type": "code",
      "source": [
        "# Results dataset\n",
        "results.columns"
      ],
      "metadata": {
        "colab": {
          "base_uri": "https://localhost:8080/"
        },
        "id": "64WnmbUbytq4",
        "outputId": "041b95dc-a20d-4b09-a25d-483d2ff9216a"
      },
      "execution_count": 20,
      "outputs": [
        {
          "output_type": "execute_result",
          "data": {
            "text/plain": [
              "Index(['date', 'home_team', 'away_team', 'home_score', 'away_score',\n",
              "       'tournament', 'city', 'country', 'neutral'],\n",
              "      dtype='object')"
            ]
          },
          "metadata": {},
          "execution_count": 20
        }
      ]
    },
    {
      "cell_type": "markdown",
      "source": [
        "The column names are uniform."
      ],
      "metadata": {
        "id": "IH9m9lceyz6T"
      }
    },
    {
      "cell_type": "markdown",
      "source": [
        "### e. Outliers"
      ],
      "metadata": {
        "id": "PNg1FI6_y9Iz"
      }
    },
    {
      "cell_type": "code",
      "metadata": {
        "id": "5o_bQcT5W3Wz"
      },
      "source": [
        "# Outliers function\n",
        "def outliers(data, action):\n",
        "  # IQR\n",
        "  Q1, Q3, IQR = 0, 0, 0\n",
        "  outliers = pd.DataFrame()\n",
        "  # Numerical columns\n",
        "  numerical = data.select_dtypes(include = ['int64', 'float64'])\n",
        "  if action == 'view':\n",
        "    Q1 = numerical.quantile(0.25)\n",
        "    Q3 = numerical.quantile(0.75)\n",
        "    IQR = Q3 - Q1\n",
        "    # Outliers\n",
        "    outliers = numerical[((numerical < (Q1 - 1.5 * IQR)) |(numerical > (Q3 + 1.5 * IQR))).any(axis=1)]\n",
        "    print(f'Number of outliers = {outliers.shape[0]}')\n",
        "    print(f'Percentage = {(outliers.shape[0]/data.shape[0])*100}%')\n",
        "  elif action == 'remove':\n",
        "    # Removing outliers\n",
        "    data_no = data.drop(list(outliers.index))\n",
        "    # Checking changes\n",
        "    print(f'New dataset shape: {data.shape}')\n",
        "    return data_no"
      ],
      "execution_count": 21,
      "outputs": []
    },
    {
      "cell_type": "code",
      "source": [
        " # FIFA dataset\n",
        "outliers(fifa, 'view')"
      ],
      "metadata": {
        "colab": {
          "base_uri": "https://localhost:8080/"
        },
        "id": "A9PymYS-00mi",
        "outputId": "02671124-8ec1-4706-8fcc-d43d7b79dd0a"
      },
      "execution_count": 22,
      "outputs": [
        {
          "output_type": "stream",
          "name": "stdout",
          "text": [
            "Number of outliers = 21235\n",
            "Percentage = 36.76674284922778%\n"
          ]
        }
      ]
    },
    {
      "cell_type": "code",
      "source": [
        "# Results dataset\n",
        "outliers(results, 'view')"
      ],
      "metadata": {
        "colab": {
          "base_uri": "https://localhost:8080/"
        },
        "id": "WaY7COXt1jbd",
        "outputId": "f5b6b8fc-1dd9-4450-bfda-597e0b745bc1"
      },
      "execution_count": 23,
      "outputs": [
        {
          "output_type": "stream",
          "name": "stdout",
          "text": [
            "Number of outliers = 5683\n",
            "Percentage = 13.915619873160459%\n"
          ]
        }
      ]
    },
    {
      "cell_type": "markdown",
      "source": [
        "Outliers will be retained."
      ],
      "metadata": {
        "id": "CynfElrg5h1F"
      }
    },
    {
      "cell_type": "markdown",
      "source": [
        "**Brief exploration of the datasets**"
      ],
      "metadata": {
        "id": "PjbMaK6gfyPh"
      }
    },
    {
      "cell_type": "code",
      "source": [
        "# Checking unique years in both datasets\n",
        "fifa.rank_date.dt.year.unique()"
      ],
      "metadata": {
        "colab": {
          "base_uri": "https://localhost:8080/"
        },
        "id": "kVkLbirPXFn5",
        "outputId": "22b99ca6-d542-4838-b290-49d86391015d"
      },
      "execution_count": 24,
      "outputs": [
        {
          "output_type": "execute_result",
          "data": {
            "text/plain": [
              "array([1993, 1994, 1995, 1996, 1997, 1998, 1999, 2000, 2001, 2002, 2003,\n",
              "       2004, 2005, 2006, 2007, 2008, 2009, 2010, 2011, 2012, 2013, 2014,\n",
              "       2015, 2016, 2017, 2018])"
            ]
          },
          "metadata": {},
          "execution_count": 24
        }
      ]
    },
    {
      "cell_type": "code",
      "source": [
        "# Results dataset\n",
        "results.date.dt.year.unique()"
      ],
      "metadata": {
        "colab": {
          "base_uri": "https://localhost:8080/"
        },
        "id": "K6XAMMhqeybJ",
        "outputId": "dfdea57f-a67c-47b6-ed1f-8d0ccef483a9"
      },
      "execution_count": 25,
      "outputs": [
        {
          "output_type": "execute_result",
          "data": {
            "text/plain": [
              "array([1872, 1873, 1874, 1875, 1876, 1877, 1878, 1879, 1880, 1881, 1882,\n",
              "       1883, 1884, 1885, 1886, 1887, 1888, 1889, 1890, 1891, 1892, 1893,\n",
              "       1894, 1895, 1896, 1897, 1898, 1899, 1900, 1901, 1902, 1903, 1904,\n",
              "       1905, 1906, 1907, 1908, 1909, 1910, 1911, 1912, 1913, 1914, 1915,\n",
              "       1916, 1917, 1918, 1919, 1920, 1921, 1922, 1923, 1924, 1925, 1926,\n",
              "       1927, 1928, 1929, 1930, 1931, 1932, 1933, 1934, 1935, 1936, 1937,\n",
              "       1938, 1939, 1940, 1941, 1942, 1943, 1944, 1945, 1946, 1947, 1948,\n",
              "       1949, 1950, 1951, 1952, 1953, 1954, 1955, 1956, 1957, 1958, 1959,\n",
              "       1960, 1961, 1962, 1963, 1964, 1965, 1966, 1967, 1968, 1969, 1970,\n",
              "       1971, 1972, 1973, 1974, 1975, 1976, 1977, 1978, 1979, 1980, 1981,\n",
              "       1982, 1983, 1984, 1985, 1986, 1987, 1988, 1989, 1990, 1991, 1992,\n",
              "       1993, 1994, 1995, 1996, 1997, 1998, 1999, 2000, 2001, 2002, 2003,\n",
              "       2004, 2005, 2006, 2007, 2008, 2009, 2010, 2011, 2012, 2013, 2014,\n",
              "       2015, 2016, 2017, 2018, 2019])"
            ]
          },
          "metadata": {},
          "execution_count": 25
        }
      ]
    },
    {
      "cell_type": "markdown",
      "source": [
        "There are fewer years in the fifa dataset, therefore, some ranks will not be available for some records in the results dataset."
      ],
      "metadata": {
        "id": "3dhU5zJNf_cm"
      }
    },
    {
      "cell_type": "markdown",
      "source": [
        "Checking records for selected years in both datasets."
      ],
      "metadata": {
        "id": "6-Ui8a0egXuq"
      }
    },
    {
      "cell_type": "code",
      "source": [
        "# FIFA dataset - 2015\n",
        "len(fifa[fifa.rank_date.dt.year == 2015]['country_full'].unique())"
      ],
      "metadata": {
        "colab": {
          "base_uri": "https://localhost:8080/"
        },
        "id": "VnPJWupAfHHw",
        "outputId": "e782f36d-5fa6-4c0f-b32c-29168c1610da"
      },
      "execution_count": 26,
      "outputs": [
        {
          "output_type": "execute_result",
          "data": {
            "text/plain": [
              "209"
            ]
          },
          "metadata": {},
          "execution_count": 26
        }
      ]
    },
    {
      "cell_type": "code",
      "source": [
        "# Results dataset -2015\n",
        "len(results[results.date.dt.year == 2015]['country'])"
      ],
      "metadata": {
        "colab": {
          "base_uri": "https://localhost:8080/"
        },
        "id": "pPI_SGXZVw-q",
        "outputId": "d3b41395-003c-4f78-8c53-af8bcdd78201"
      },
      "execution_count": 27,
      "outputs": [
        {
          "output_type": "execute_result",
          "data": {
            "text/plain": [
              "1003"
            ]
          },
          "metadata": {},
          "execution_count": 27
        }
      ]
    },
    {
      "cell_type": "code",
      "source": [
        "# FIFA dataset - 2018\n",
        "fifa[(fifa.rank_date.dt.year == 2018) & (results.country == 'Germany')][['country_full', 'rank', 'rank_date']].sort_values('country_full')"
      ],
      "metadata": {
        "colab": {
          "base_uri": "https://localhost:8080/",
          "height": 50
        },
        "id": "jVGDWT8aXtTk",
        "outputId": "01ae6ab6-2848-47d2-a103-82b88818c418"
      },
      "execution_count": 28,
      "outputs": [
        {
          "output_type": "execute_result",
          "data": {
            "text/plain": [
              "Empty DataFrame\n",
              "Columns: [country_full, rank, rank_date]\n",
              "Index: []"
            ],
            "text/html": [
              "\n",
              "  <div id=\"df-0275a38c-041a-4f41-9c37-aee76da13496\">\n",
              "    <div class=\"colab-df-container\">\n",
              "      <div>\n",
              "<style scoped>\n",
              "    .dataframe tbody tr th:only-of-type {\n",
              "        vertical-align: middle;\n",
              "    }\n",
              "\n",
              "    .dataframe tbody tr th {\n",
              "        vertical-align: top;\n",
              "    }\n",
              "\n",
              "    .dataframe thead th {\n",
              "        text-align: right;\n",
              "    }\n",
              "</style>\n",
              "<table border=\"1\" class=\"dataframe\">\n",
              "  <thead>\n",
              "    <tr style=\"text-align: right;\">\n",
              "      <th></th>\n",
              "      <th>country_full</th>\n",
              "      <th>rank</th>\n",
              "      <th>rank_date</th>\n",
              "    </tr>\n",
              "  </thead>\n",
              "  <tbody>\n",
              "  </tbody>\n",
              "</table>\n",
              "</div>\n",
              "      <button class=\"colab-df-convert\" onclick=\"convertToInteractive('df-0275a38c-041a-4f41-9c37-aee76da13496')\"\n",
              "              title=\"Convert this dataframe to an interactive table.\"\n",
              "              style=\"display:none;\">\n",
              "        \n",
              "  <svg xmlns=\"http://www.w3.org/2000/svg\" height=\"24px\"viewBox=\"0 0 24 24\"\n",
              "       width=\"24px\">\n",
              "    <path d=\"M0 0h24v24H0V0z\" fill=\"none\"/>\n",
              "    <path d=\"M18.56 5.44l.94 2.06.94-2.06 2.06-.94-2.06-.94-.94-2.06-.94 2.06-2.06.94zm-11 1L8.5 8.5l.94-2.06 2.06-.94-2.06-.94L8.5 2.5l-.94 2.06-2.06.94zm10 10l.94 2.06.94-2.06 2.06-.94-2.06-.94-.94-2.06-.94 2.06-2.06.94z\"/><path d=\"M17.41 7.96l-1.37-1.37c-.4-.4-.92-.59-1.43-.59-.52 0-1.04.2-1.43.59L10.3 9.45l-7.72 7.72c-.78.78-.78 2.05 0 2.83L4 21.41c.39.39.9.59 1.41.59.51 0 1.02-.2 1.41-.59l7.78-7.78 2.81-2.81c.8-.78.8-2.07 0-2.86zM5.41 20L4 18.59l7.72-7.72 1.47 1.35L5.41 20z\"/>\n",
              "  </svg>\n",
              "      </button>\n",
              "      \n",
              "  <style>\n",
              "    .colab-df-container {\n",
              "      display:flex;\n",
              "      flex-wrap:wrap;\n",
              "      gap: 12px;\n",
              "    }\n",
              "\n",
              "    .colab-df-convert {\n",
              "      background-color: #E8F0FE;\n",
              "      border: none;\n",
              "      border-radius: 50%;\n",
              "      cursor: pointer;\n",
              "      display: none;\n",
              "      fill: #1967D2;\n",
              "      height: 32px;\n",
              "      padding: 0 0 0 0;\n",
              "      width: 32px;\n",
              "    }\n",
              "\n",
              "    .colab-df-convert:hover {\n",
              "      background-color: #E2EBFA;\n",
              "      box-shadow: 0px 1px 2px rgba(60, 64, 67, 0.3), 0px 1px 3px 1px rgba(60, 64, 67, 0.15);\n",
              "      fill: #174EA6;\n",
              "    }\n",
              "\n",
              "    [theme=dark] .colab-df-convert {\n",
              "      background-color: #3B4455;\n",
              "      fill: #D2E3FC;\n",
              "    }\n",
              "\n",
              "    [theme=dark] .colab-df-convert:hover {\n",
              "      background-color: #434B5C;\n",
              "      box-shadow: 0px 1px 3px 1px rgba(0, 0, 0, 0.15);\n",
              "      filter: drop-shadow(0px 1px 2px rgba(0, 0, 0, 0.3));\n",
              "      fill: #FFFFFF;\n",
              "    }\n",
              "  </style>\n",
              "\n",
              "      <script>\n",
              "        const buttonEl =\n",
              "          document.querySelector('#df-0275a38c-041a-4f41-9c37-aee76da13496 button.colab-df-convert');\n",
              "        buttonEl.style.display =\n",
              "          google.colab.kernel.accessAllowed ? 'block' : 'none';\n",
              "\n",
              "        async function convertToInteractive(key) {\n",
              "          const element = document.querySelector('#df-0275a38c-041a-4f41-9c37-aee76da13496');\n",
              "          const dataTable =\n",
              "            await google.colab.kernel.invokeFunction('convertToInteractive',\n",
              "                                                     [key], {});\n",
              "          if (!dataTable) return;\n",
              "\n",
              "          const docLinkHtml = 'Like what you see? Visit the ' +\n",
              "            '<a target=\"_blank\" href=https://colab.research.google.com/notebooks/data_table.ipynb>data table notebook</a>'\n",
              "            + ' to learn more about interactive tables.';\n",
              "          element.innerHTML = '';\n",
              "          dataTable['output_type'] = 'display_data';\n",
              "          await google.colab.output.renderOutput(dataTable, element);\n",
              "          const docLink = document.createElement('div');\n",
              "          docLink.innerHTML = docLinkHtml;\n",
              "          element.appendChild(docLink);\n",
              "        }\n",
              "      </script>\n",
              "    </div>\n",
              "  </div>\n",
              "  "
            ]
          },
          "metadata": {},
          "execution_count": 28
        }
      ]
    },
    {
      "cell_type": "code",
      "source": [
        "# Results dataset - 2018\n",
        "results[(results.date.dt.year == 2018) & (results.country == 'Germany')][['country', 'date', 'tournament']].sort_values('country')"
      ],
      "metadata": {
        "colab": {
          "base_uri": "https://localhost:8080/",
          "height": 269
        },
        "id": "1o6qsnscYUqq",
        "outputId": "64b8ee9b-2516-4158-a4f0-c03d56bed5c3"
      },
      "execution_count": 29,
      "outputs": [
        {
          "output_type": "execute_result",
          "data": {
            "text/plain": [
              "       country       date           tournament\n",
              "39579  Germany 2018-03-23             Friendly\n",
              "39646  Germany 2018-03-27             Friendly\n",
              "39834  Germany 2018-06-08             Friendly\n",
              "39952  Germany 2018-09-06  UEFA Nations League\n",
              "40018  Germany 2018-09-09             Friendly\n",
              "40213  Germany 2018-11-15             Friendly\n",
              "40273  Germany 2018-11-19  UEFA Nations League"
            ],
            "text/html": [
              "\n",
              "  <div id=\"df-1527d2fe-bbdb-443e-a79f-9d0a7c7e0f61\">\n",
              "    <div class=\"colab-df-container\">\n",
              "      <div>\n",
              "<style scoped>\n",
              "    .dataframe tbody tr th:only-of-type {\n",
              "        vertical-align: middle;\n",
              "    }\n",
              "\n",
              "    .dataframe tbody tr th {\n",
              "        vertical-align: top;\n",
              "    }\n",
              "\n",
              "    .dataframe thead th {\n",
              "        text-align: right;\n",
              "    }\n",
              "</style>\n",
              "<table border=\"1\" class=\"dataframe\">\n",
              "  <thead>\n",
              "    <tr style=\"text-align: right;\">\n",
              "      <th></th>\n",
              "      <th>country</th>\n",
              "      <th>date</th>\n",
              "      <th>tournament</th>\n",
              "    </tr>\n",
              "  </thead>\n",
              "  <tbody>\n",
              "    <tr>\n",
              "      <th>39579</th>\n",
              "      <td>Germany</td>\n",
              "      <td>2018-03-23</td>\n",
              "      <td>Friendly</td>\n",
              "    </tr>\n",
              "    <tr>\n",
              "      <th>39646</th>\n",
              "      <td>Germany</td>\n",
              "      <td>2018-03-27</td>\n",
              "      <td>Friendly</td>\n",
              "    </tr>\n",
              "    <tr>\n",
              "      <th>39834</th>\n",
              "      <td>Germany</td>\n",
              "      <td>2018-06-08</td>\n",
              "      <td>Friendly</td>\n",
              "    </tr>\n",
              "    <tr>\n",
              "      <th>39952</th>\n",
              "      <td>Germany</td>\n",
              "      <td>2018-09-06</td>\n",
              "      <td>UEFA Nations League</td>\n",
              "    </tr>\n",
              "    <tr>\n",
              "      <th>40018</th>\n",
              "      <td>Germany</td>\n",
              "      <td>2018-09-09</td>\n",
              "      <td>Friendly</td>\n",
              "    </tr>\n",
              "    <tr>\n",
              "      <th>40213</th>\n",
              "      <td>Germany</td>\n",
              "      <td>2018-11-15</td>\n",
              "      <td>Friendly</td>\n",
              "    </tr>\n",
              "    <tr>\n",
              "      <th>40273</th>\n",
              "      <td>Germany</td>\n",
              "      <td>2018-11-19</td>\n",
              "      <td>UEFA Nations League</td>\n",
              "    </tr>\n",
              "  </tbody>\n",
              "</table>\n",
              "</div>\n",
              "      <button class=\"colab-df-convert\" onclick=\"convertToInteractive('df-1527d2fe-bbdb-443e-a79f-9d0a7c7e0f61')\"\n",
              "              title=\"Convert this dataframe to an interactive table.\"\n",
              "              style=\"display:none;\">\n",
              "        \n",
              "  <svg xmlns=\"http://www.w3.org/2000/svg\" height=\"24px\"viewBox=\"0 0 24 24\"\n",
              "       width=\"24px\">\n",
              "    <path d=\"M0 0h24v24H0V0z\" fill=\"none\"/>\n",
              "    <path d=\"M18.56 5.44l.94 2.06.94-2.06 2.06-.94-2.06-.94-.94-2.06-.94 2.06-2.06.94zm-11 1L8.5 8.5l.94-2.06 2.06-.94-2.06-.94L8.5 2.5l-.94 2.06-2.06.94zm10 10l.94 2.06.94-2.06 2.06-.94-2.06-.94-.94-2.06-.94 2.06-2.06.94z\"/><path d=\"M17.41 7.96l-1.37-1.37c-.4-.4-.92-.59-1.43-.59-.52 0-1.04.2-1.43.59L10.3 9.45l-7.72 7.72c-.78.78-.78 2.05 0 2.83L4 21.41c.39.39.9.59 1.41.59.51 0 1.02-.2 1.41-.59l7.78-7.78 2.81-2.81c.8-.78.8-2.07 0-2.86zM5.41 20L4 18.59l7.72-7.72 1.47 1.35L5.41 20z\"/>\n",
              "  </svg>\n",
              "      </button>\n",
              "      \n",
              "  <style>\n",
              "    .colab-df-container {\n",
              "      display:flex;\n",
              "      flex-wrap:wrap;\n",
              "      gap: 12px;\n",
              "    }\n",
              "\n",
              "    .colab-df-convert {\n",
              "      background-color: #E8F0FE;\n",
              "      border: none;\n",
              "      border-radius: 50%;\n",
              "      cursor: pointer;\n",
              "      display: none;\n",
              "      fill: #1967D2;\n",
              "      height: 32px;\n",
              "      padding: 0 0 0 0;\n",
              "      width: 32px;\n",
              "    }\n",
              "\n",
              "    .colab-df-convert:hover {\n",
              "      background-color: #E2EBFA;\n",
              "      box-shadow: 0px 1px 2px rgba(60, 64, 67, 0.3), 0px 1px 3px 1px rgba(60, 64, 67, 0.15);\n",
              "      fill: #174EA6;\n",
              "    }\n",
              "\n",
              "    [theme=dark] .colab-df-convert {\n",
              "      background-color: #3B4455;\n",
              "      fill: #D2E3FC;\n",
              "    }\n",
              "\n",
              "    [theme=dark] .colab-df-convert:hover {\n",
              "      background-color: #434B5C;\n",
              "      box-shadow: 0px 1px 3px 1px rgba(0, 0, 0, 0.15);\n",
              "      filter: drop-shadow(0px 1px 2px rgba(0, 0, 0, 0.3));\n",
              "      fill: #FFFFFF;\n",
              "    }\n",
              "  </style>\n",
              "\n",
              "      <script>\n",
              "        const buttonEl =\n",
              "          document.querySelector('#df-1527d2fe-bbdb-443e-a79f-9d0a7c7e0f61 button.colab-df-convert');\n",
              "        buttonEl.style.display =\n",
              "          google.colab.kernel.accessAllowed ? 'block' : 'none';\n",
              "\n",
              "        async function convertToInteractive(key) {\n",
              "          const element = document.querySelector('#df-1527d2fe-bbdb-443e-a79f-9d0a7c7e0f61');\n",
              "          const dataTable =\n",
              "            await google.colab.kernel.invokeFunction('convertToInteractive',\n",
              "                                                     [key], {});\n",
              "          if (!dataTable) return;\n",
              "\n",
              "          const docLinkHtml = 'Like what you see? Visit the ' +\n",
              "            '<a target=\"_blank\" href=https://colab.research.google.com/notebooks/data_table.ipynb>data table notebook</a>'\n",
              "            + ' to learn more about interactive tables.';\n",
              "          element.innerHTML = '';\n",
              "          dataTable['output_type'] = 'display_data';\n",
              "          await google.colab.output.renderOutput(dataTable, element);\n",
              "          const docLink = document.createElement('div');\n",
              "          docLink.innerHTML = docLinkHtml;\n",
              "          element.appendChild(docLink);\n",
              "        }\n",
              "      </script>\n",
              "    </div>\n",
              "  </div>\n",
              "  "
            ]
          },
          "metadata": {},
          "execution_count": 29
        }
      ]
    },
    {
      "cell_type": "markdown",
      "source": [
        "From the results above, the records do not match, therefore, themerged dataset will contain fewer records when an inner join is performed, so as to obtain the rank column, which is only present in the fifa dataset."
      ],
      "metadata": {
        "id": "4NfQYyBPgxUF"
      }
    },
    {
      "cell_type": "code",
      "source": [
        "# Copy of the FIFA dataset used to obtain the ranks for the away team during merging\n",
        "fifa2 = fifa.copy()"
      ],
      "metadata": {
        "id": "DJCu8VWTaAxL"
      },
      "execution_count": 30,
      "outputs": []
    },
    {
      "cell_type": "code",
      "source": [
        "# Merging of the results dataset to the two fifa dataframes\n",
        "merged = pd.merge(pd.merge(results,fifa[['rank', 'country_full','rank_date']], \n",
        "                           how = 'inner', left_on= ['date', 'home_team'], \n",
        "                           right_on= ['rank_date','country_full']), fifa2[['rank', 'country_full','rank_date']], \n",
        "                          how = 'inner', left_on= ['date', 'away_team'], \n",
        "                          right_on= ['rank_date','country_full'])\n",
        "\n",
        "# Dataframe shape\n",
        "merged.shape"
      ],
      "metadata": {
        "colab": {
          "base_uri": "https://localhost:8080/"
        },
        "id": "r1BR42c8VwXp",
        "outputId": "3d875b46-fc71-45ca-ce04-327f8b39ea4d"
      },
      "execution_count": 31,
      "outputs": [
        {
          "output_type": "execute_result",
          "data": {
            "text/plain": [
              "(871, 15)"
            ]
          },
          "metadata": {},
          "execution_count": 31
        }
      ]
    },
    {
      "cell_type": "code",
      "source": [
        "# Merged dataset with all columns in both datasets, with respest to the home team.\n",
        "# Merging of the results dataset to the two fifa dataframes\n",
        "merged_complete = pd.merge(pd.merge(results,fifa, \n",
        "                           how = 'inner', left_on= ['date', 'home_team'], \n",
        "                           right_on= ['rank_date','country_full']), fifa2, \n",
        "                          how = 'inner', left_on= ['date', 'away_team'], \n",
        "                          right_on= ['rank_date','country_full'])\n",
        "\n",
        "# Dataframe shape\n",
        "merged_complete.shape"
      ],
      "metadata": {
        "colab": {
          "base_uri": "https://localhost:8080/"
        },
        "id": "D43I3c7DJlQp",
        "outputId": "076176ec-d514-4825-ea4b-bd386e7061df"
      },
      "execution_count": 38,
      "outputs": [
        {
          "output_type": "execute_result",
          "data": {
            "text/plain": [
              "(871, 41)"
            ]
          },
          "metadata": {},
          "execution_count": 38
        }
      ]
    },
    {
      "cell_type": "code",
      "source": [
        "# Merged dataframe preview\n",
        "merged.head()"
      ],
      "metadata": {
        "colab": {
          "base_uri": "https://localhost:8080/",
          "height": 337
        },
        "id": "fcxwI5aLW3v6",
        "outputId": "6d984b63-ed38-4bfa-e91b-27ff0ccdf312"
      },
      "execution_count": 33,
      "outputs": [
        {
          "output_type": "execute_result",
          "data": {
            "text/plain": [
              "        date home_team     away_team  home_score  away_score  \\\n",
              "0 1993-08-08   Bolivia       Uruguay           3           1   \n",
              "1 1993-08-08    Brazil        Mexico           1           1   \n",
              "2 1993-08-08   Ecuador     Venezuela           5           0   \n",
              "3 1993-08-08    Guinea  Sierra Leone           1           0   \n",
              "4 1993-08-08  Paraguay     Argentina           1           3   \n",
              "\n",
              "                     tournament      city   country  neutral  rank_x  \\\n",
              "0  FIFA World Cup qualification    La Paz   Bolivia    False      59   \n",
              "1                      Friendly    Maceió    Brazil    False       8   \n",
              "2  FIFA World Cup qualification     Quito   Ecuador    False      35   \n",
              "3                      Friendly   Conakry    Guinea    False      65   \n",
              "4  FIFA World Cup qualification  Asunción  Paraguay    False      67   \n",
              "\n",
              "  country_full_x rank_date_x  rank_y country_full_y rank_date_y  \n",
              "0        Bolivia  1993-08-08      22        Uruguay  1993-08-08  \n",
              "1         Brazil  1993-08-08      14         Mexico  1993-08-08  \n",
              "2        Ecuador  1993-08-08      94      Venezuela  1993-08-08  \n",
              "3         Guinea  1993-08-08      86   Sierra Leone  1993-08-08  \n",
              "4       Paraguay  1993-08-08       5      Argentina  1993-08-08  "
            ],
            "text/html": [
              "\n",
              "  <div id=\"df-1735b1ab-88bf-4f90-ae3c-7b2a7032486e\">\n",
              "    <div class=\"colab-df-container\">\n",
              "      <div>\n",
              "<style scoped>\n",
              "    .dataframe tbody tr th:only-of-type {\n",
              "        vertical-align: middle;\n",
              "    }\n",
              "\n",
              "    .dataframe tbody tr th {\n",
              "        vertical-align: top;\n",
              "    }\n",
              "\n",
              "    .dataframe thead th {\n",
              "        text-align: right;\n",
              "    }\n",
              "</style>\n",
              "<table border=\"1\" class=\"dataframe\">\n",
              "  <thead>\n",
              "    <tr style=\"text-align: right;\">\n",
              "      <th></th>\n",
              "      <th>date</th>\n",
              "      <th>home_team</th>\n",
              "      <th>away_team</th>\n",
              "      <th>home_score</th>\n",
              "      <th>away_score</th>\n",
              "      <th>tournament</th>\n",
              "      <th>city</th>\n",
              "      <th>country</th>\n",
              "      <th>neutral</th>\n",
              "      <th>rank_x</th>\n",
              "      <th>country_full_x</th>\n",
              "      <th>rank_date_x</th>\n",
              "      <th>rank_y</th>\n",
              "      <th>country_full_y</th>\n",
              "      <th>rank_date_y</th>\n",
              "    </tr>\n",
              "  </thead>\n",
              "  <tbody>\n",
              "    <tr>\n",
              "      <th>0</th>\n",
              "      <td>1993-08-08</td>\n",
              "      <td>Bolivia</td>\n",
              "      <td>Uruguay</td>\n",
              "      <td>3</td>\n",
              "      <td>1</td>\n",
              "      <td>FIFA World Cup qualification</td>\n",
              "      <td>La Paz</td>\n",
              "      <td>Bolivia</td>\n",
              "      <td>False</td>\n",
              "      <td>59</td>\n",
              "      <td>Bolivia</td>\n",
              "      <td>1993-08-08</td>\n",
              "      <td>22</td>\n",
              "      <td>Uruguay</td>\n",
              "      <td>1993-08-08</td>\n",
              "    </tr>\n",
              "    <tr>\n",
              "      <th>1</th>\n",
              "      <td>1993-08-08</td>\n",
              "      <td>Brazil</td>\n",
              "      <td>Mexico</td>\n",
              "      <td>1</td>\n",
              "      <td>1</td>\n",
              "      <td>Friendly</td>\n",
              "      <td>Maceió</td>\n",
              "      <td>Brazil</td>\n",
              "      <td>False</td>\n",
              "      <td>8</td>\n",
              "      <td>Brazil</td>\n",
              "      <td>1993-08-08</td>\n",
              "      <td>14</td>\n",
              "      <td>Mexico</td>\n",
              "      <td>1993-08-08</td>\n",
              "    </tr>\n",
              "    <tr>\n",
              "      <th>2</th>\n",
              "      <td>1993-08-08</td>\n",
              "      <td>Ecuador</td>\n",
              "      <td>Venezuela</td>\n",
              "      <td>5</td>\n",
              "      <td>0</td>\n",
              "      <td>FIFA World Cup qualification</td>\n",
              "      <td>Quito</td>\n",
              "      <td>Ecuador</td>\n",
              "      <td>False</td>\n",
              "      <td>35</td>\n",
              "      <td>Ecuador</td>\n",
              "      <td>1993-08-08</td>\n",
              "      <td>94</td>\n",
              "      <td>Venezuela</td>\n",
              "      <td>1993-08-08</td>\n",
              "    </tr>\n",
              "    <tr>\n",
              "      <th>3</th>\n",
              "      <td>1993-08-08</td>\n",
              "      <td>Guinea</td>\n",
              "      <td>Sierra Leone</td>\n",
              "      <td>1</td>\n",
              "      <td>0</td>\n",
              "      <td>Friendly</td>\n",
              "      <td>Conakry</td>\n",
              "      <td>Guinea</td>\n",
              "      <td>False</td>\n",
              "      <td>65</td>\n",
              "      <td>Guinea</td>\n",
              "      <td>1993-08-08</td>\n",
              "      <td>86</td>\n",
              "      <td>Sierra Leone</td>\n",
              "      <td>1993-08-08</td>\n",
              "    </tr>\n",
              "    <tr>\n",
              "      <th>4</th>\n",
              "      <td>1993-08-08</td>\n",
              "      <td>Paraguay</td>\n",
              "      <td>Argentina</td>\n",
              "      <td>1</td>\n",
              "      <td>3</td>\n",
              "      <td>FIFA World Cup qualification</td>\n",
              "      <td>Asunción</td>\n",
              "      <td>Paraguay</td>\n",
              "      <td>False</td>\n",
              "      <td>67</td>\n",
              "      <td>Paraguay</td>\n",
              "      <td>1993-08-08</td>\n",
              "      <td>5</td>\n",
              "      <td>Argentina</td>\n",
              "      <td>1993-08-08</td>\n",
              "    </tr>\n",
              "  </tbody>\n",
              "</table>\n",
              "</div>\n",
              "      <button class=\"colab-df-convert\" onclick=\"convertToInteractive('df-1735b1ab-88bf-4f90-ae3c-7b2a7032486e')\"\n",
              "              title=\"Convert this dataframe to an interactive table.\"\n",
              "              style=\"display:none;\">\n",
              "        \n",
              "  <svg xmlns=\"http://www.w3.org/2000/svg\" height=\"24px\"viewBox=\"0 0 24 24\"\n",
              "       width=\"24px\">\n",
              "    <path d=\"M0 0h24v24H0V0z\" fill=\"none\"/>\n",
              "    <path d=\"M18.56 5.44l.94 2.06.94-2.06 2.06-.94-2.06-.94-.94-2.06-.94 2.06-2.06.94zm-11 1L8.5 8.5l.94-2.06 2.06-.94-2.06-.94L8.5 2.5l-.94 2.06-2.06.94zm10 10l.94 2.06.94-2.06 2.06-.94-2.06-.94-.94-2.06-.94 2.06-2.06.94z\"/><path d=\"M17.41 7.96l-1.37-1.37c-.4-.4-.92-.59-1.43-.59-.52 0-1.04.2-1.43.59L10.3 9.45l-7.72 7.72c-.78.78-.78 2.05 0 2.83L4 21.41c.39.39.9.59 1.41.59.51 0 1.02-.2 1.41-.59l7.78-7.78 2.81-2.81c.8-.78.8-2.07 0-2.86zM5.41 20L4 18.59l7.72-7.72 1.47 1.35L5.41 20z\"/>\n",
              "  </svg>\n",
              "      </button>\n",
              "      \n",
              "  <style>\n",
              "    .colab-df-container {\n",
              "      display:flex;\n",
              "      flex-wrap:wrap;\n",
              "      gap: 12px;\n",
              "    }\n",
              "\n",
              "    .colab-df-convert {\n",
              "      background-color: #E8F0FE;\n",
              "      border: none;\n",
              "      border-radius: 50%;\n",
              "      cursor: pointer;\n",
              "      display: none;\n",
              "      fill: #1967D2;\n",
              "      height: 32px;\n",
              "      padding: 0 0 0 0;\n",
              "      width: 32px;\n",
              "    }\n",
              "\n",
              "    .colab-df-convert:hover {\n",
              "      background-color: #E2EBFA;\n",
              "      box-shadow: 0px 1px 2px rgba(60, 64, 67, 0.3), 0px 1px 3px 1px rgba(60, 64, 67, 0.15);\n",
              "      fill: #174EA6;\n",
              "    }\n",
              "\n",
              "    [theme=dark] .colab-df-convert {\n",
              "      background-color: #3B4455;\n",
              "      fill: #D2E3FC;\n",
              "    }\n",
              "\n",
              "    [theme=dark] .colab-df-convert:hover {\n",
              "      background-color: #434B5C;\n",
              "      box-shadow: 0px 1px 3px 1px rgba(0, 0, 0, 0.15);\n",
              "      filter: drop-shadow(0px 1px 2px rgba(0, 0, 0, 0.3));\n",
              "      fill: #FFFFFF;\n",
              "    }\n",
              "  </style>\n",
              "\n",
              "      <script>\n",
              "        const buttonEl =\n",
              "          document.querySelector('#df-1735b1ab-88bf-4f90-ae3c-7b2a7032486e button.colab-df-convert');\n",
              "        buttonEl.style.display =\n",
              "          google.colab.kernel.accessAllowed ? 'block' : 'none';\n",
              "\n",
              "        async function convertToInteractive(key) {\n",
              "          const element = document.querySelector('#df-1735b1ab-88bf-4f90-ae3c-7b2a7032486e');\n",
              "          const dataTable =\n",
              "            await google.colab.kernel.invokeFunction('convertToInteractive',\n",
              "                                                     [key], {});\n",
              "          if (!dataTable) return;\n",
              "\n",
              "          const docLinkHtml = 'Like what you see? Visit the ' +\n",
              "            '<a target=\"_blank\" href=https://colab.research.google.com/notebooks/data_table.ipynb>data table notebook</a>'\n",
              "            + ' to learn more about interactive tables.';\n",
              "          element.innerHTML = '';\n",
              "          dataTable['output_type'] = 'display_data';\n",
              "          await google.colab.output.renderOutput(dataTable, element);\n",
              "          const docLink = document.createElement('div');\n",
              "          docLink.innerHTML = docLinkHtml;\n",
              "          element.appendChild(docLink);\n",
              "        }\n",
              "      </script>\n",
              "    </div>\n",
              "  </div>\n",
              "  "
            ]
          },
          "metadata": {},
          "execution_count": 33
        }
      ]
    },
    {
      "cell_type": "code",
      "source": [
        "# Dropping duplicate columns\n",
        "merged.drop(['country_full_x', 'country_full_y', 'rank_date_x', 'rank_date_y', 'country'], axis = 1, inplace = True)"
      ],
      "metadata": {
        "id": "qIziGyghVNA8"
      },
      "execution_count": 34,
      "outputs": []
    },
    {
      "cell_type": "code",
      "source": [
        "# Renaming columns\n",
        "merged.columns.values[-2:] = ['home_tean_rank', 'away_team_rank']\n",
        "# Confirming changes\n",
        "merged.head()"
      ],
      "metadata": {
        "colab": {
          "base_uri": "https://localhost:8080/",
          "height": 206
        },
        "id": "-en3aeXpivAP",
        "outputId": "f1a25540-1476-4933-fed7-9652ebb03230"
      },
      "execution_count": 35,
      "outputs": [
        {
          "output_type": "execute_result",
          "data": {
            "text/plain": [
              "        date home_team     away_team  home_score  away_score  \\\n",
              "0 1993-08-08   Bolivia       Uruguay           3           1   \n",
              "1 1993-08-08    Brazil        Mexico           1           1   \n",
              "2 1993-08-08   Ecuador     Venezuela           5           0   \n",
              "3 1993-08-08    Guinea  Sierra Leone           1           0   \n",
              "4 1993-08-08  Paraguay     Argentina           1           3   \n",
              "\n",
              "                     tournament      city  neutral  home_tean_rank  \\\n",
              "0  FIFA World Cup qualification    La Paz    False              59   \n",
              "1                      Friendly    Maceió    False               8   \n",
              "2  FIFA World Cup qualification     Quito    False              35   \n",
              "3                      Friendly   Conakry    False              65   \n",
              "4  FIFA World Cup qualification  Asunción    False              67   \n",
              "\n",
              "   away_team_rank  \n",
              "0              22  \n",
              "1              14  \n",
              "2              94  \n",
              "3              86  \n",
              "4               5  "
            ],
            "text/html": [
              "\n",
              "  <div id=\"df-e63709ac-e86c-4707-bcba-7f5779600d36\">\n",
              "    <div class=\"colab-df-container\">\n",
              "      <div>\n",
              "<style scoped>\n",
              "    .dataframe tbody tr th:only-of-type {\n",
              "        vertical-align: middle;\n",
              "    }\n",
              "\n",
              "    .dataframe tbody tr th {\n",
              "        vertical-align: top;\n",
              "    }\n",
              "\n",
              "    .dataframe thead th {\n",
              "        text-align: right;\n",
              "    }\n",
              "</style>\n",
              "<table border=\"1\" class=\"dataframe\">\n",
              "  <thead>\n",
              "    <tr style=\"text-align: right;\">\n",
              "      <th></th>\n",
              "      <th>date</th>\n",
              "      <th>home_team</th>\n",
              "      <th>away_team</th>\n",
              "      <th>home_score</th>\n",
              "      <th>away_score</th>\n",
              "      <th>tournament</th>\n",
              "      <th>city</th>\n",
              "      <th>neutral</th>\n",
              "      <th>home_tean_rank</th>\n",
              "      <th>away_team_rank</th>\n",
              "    </tr>\n",
              "  </thead>\n",
              "  <tbody>\n",
              "    <tr>\n",
              "      <th>0</th>\n",
              "      <td>1993-08-08</td>\n",
              "      <td>Bolivia</td>\n",
              "      <td>Uruguay</td>\n",
              "      <td>3</td>\n",
              "      <td>1</td>\n",
              "      <td>FIFA World Cup qualification</td>\n",
              "      <td>La Paz</td>\n",
              "      <td>False</td>\n",
              "      <td>59</td>\n",
              "      <td>22</td>\n",
              "    </tr>\n",
              "    <tr>\n",
              "      <th>1</th>\n",
              "      <td>1993-08-08</td>\n",
              "      <td>Brazil</td>\n",
              "      <td>Mexico</td>\n",
              "      <td>1</td>\n",
              "      <td>1</td>\n",
              "      <td>Friendly</td>\n",
              "      <td>Maceió</td>\n",
              "      <td>False</td>\n",
              "      <td>8</td>\n",
              "      <td>14</td>\n",
              "    </tr>\n",
              "    <tr>\n",
              "      <th>2</th>\n",
              "      <td>1993-08-08</td>\n",
              "      <td>Ecuador</td>\n",
              "      <td>Venezuela</td>\n",
              "      <td>5</td>\n",
              "      <td>0</td>\n",
              "      <td>FIFA World Cup qualification</td>\n",
              "      <td>Quito</td>\n",
              "      <td>False</td>\n",
              "      <td>35</td>\n",
              "      <td>94</td>\n",
              "    </tr>\n",
              "    <tr>\n",
              "      <th>3</th>\n",
              "      <td>1993-08-08</td>\n",
              "      <td>Guinea</td>\n",
              "      <td>Sierra Leone</td>\n",
              "      <td>1</td>\n",
              "      <td>0</td>\n",
              "      <td>Friendly</td>\n",
              "      <td>Conakry</td>\n",
              "      <td>False</td>\n",
              "      <td>65</td>\n",
              "      <td>86</td>\n",
              "    </tr>\n",
              "    <tr>\n",
              "      <th>4</th>\n",
              "      <td>1993-08-08</td>\n",
              "      <td>Paraguay</td>\n",
              "      <td>Argentina</td>\n",
              "      <td>1</td>\n",
              "      <td>3</td>\n",
              "      <td>FIFA World Cup qualification</td>\n",
              "      <td>Asunción</td>\n",
              "      <td>False</td>\n",
              "      <td>67</td>\n",
              "      <td>5</td>\n",
              "    </tr>\n",
              "  </tbody>\n",
              "</table>\n",
              "</div>\n",
              "      <button class=\"colab-df-convert\" onclick=\"convertToInteractive('df-e63709ac-e86c-4707-bcba-7f5779600d36')\"\n",
              "              title=\"Convert this dataframe to an interactive table.\"\n",
              "              style=\"display:none;\">\n",
              "        \n",
              "  <svg xmlns=\"http://www.w3.org/2000/svg\" height=\"24px\"viewBox=\"0 0 24 24\"\n",
              "       width=\"24px\">\n",
              "    <path d=\"M0 0h24v24H0V0z\" fill=\"none\"/>\n",
              "    <path d=\"M18.56 5.44l.94 2.06.94-2.06 2.06-.94-2.06-.94-.94-2.06-.94 2.06-2.06.94zm-11 1L8.5 8.5l.94-2.06 2.06-.94-2.06-.94L8.5 2.5l-.94 2.06-2.06.94zm10 10l.94 2.06.94-2.06 2.06-.94-2.06-.94-.94-2.06-.94 2.06-2.06.94z\"/><path d=\"M17.41 7.96l-1.37-1.37c-.4-.4-.92-.59-1.43-.59-.52 0-1.04.2-1.43.59L10.3 9.45l-7.72 7.72c-.78.78-.78 2.05 0 2.83L4 21.41c.39.39.9.59 1.41.59.51 0 1.02-.2 1.41-.59l7.78-7.78 2.81-2.81c.8-.78.8-2.07 0-2.86zM5.41 20L4 18.59l7.72-7.72 1.47 1.35L5.41 20z\"/>\n",
              "  </svg>\n",
              "      </button>\n",
              "      \n",
              "  <style>\n",
              "    .colab-df-container {\n",
              "      display:flex;\n",
              "      flex-wrap:wrap;\n",
              "      gap: 12px;\n",
              "    }\n",
              "\n",
              "    .colab-df-convert {\n",
              "      background-color: #E8F0FE;\n",
              "      border: none;\n",
              "      border-radius: 50%;\n",
              "      cursor: pointer;\n",
              "      display: none;\n",
              "      fill: #1967D2;\n",
              "      height: 32px;\n",
              "      padding: 0 0 0 0;\n",
              "      width: 32px;\n",
              "    }\n",
              "\n",
              "    .colab-df-convert:hover {\n",
              "      background-color: #E2EBFA;\n",
              "      box-shadow: 0px 1px 2px rgba(60, 64, 67, 0.3), 0px 1px 3px 1px rgba(60, 64, 67, 0.15);\n",
              "      fill: #174EA6;\n",
              "    }\n",
              "\n",
              "    [theme=dark] .colab-df-convert {\n",
              "      background-color: #3B4455;\n",
              "      fill: #D2E3FC;\n",
              "    }\n",
              "\n",
              "    [theme=dark] .colab-df-convert:hover {\n",
              "      background-color: #434B5C;\n",
              "      box-shadow: 0px 1px 3px 1px rgba(0, 0, 0, 0.15);\n",
              "      filter: drop-shadow(0px 1px 2px rgba(0, 0, 0, 0.3));\n",
              "      fill: #FFFFFF;\n",
              "    }\n",
              "  </style>\n",
              "\n",
              "      <script>\n",
              "        const buttonEl =\n",
              "          document.querySelector('#df-e63709ac-e86c-4707-bcba-7f5779600d36 button.colab-df-convert');\n",
              "        buttonEl.style.display =\n",
              "          google.colab.kernel.accessAllowed ? 'block' : 'none';\n",
              "\n",
              "        async function convertToInteractive(key) {\n",
              "          const element = document.querySelector('#df-e63709ac-e86c-4707-bcba-7f5779600d36');\n",
              "          const dataTable =\n",
              "            await google.colab.kernel.invokeFunction('convertToInteractive',\n",
              "                                                     [key], {});\n",
              "          if (!dataTable) return;\n",
              "\n",
              "          const docLinkHtml = 'Like what you see? Visit the ' +\n",
              "            '<a target=\"_blank\" href=https://colab.research.google.com/notebooks/data_table.ipynb>data table notebook</a>'\n",
              "            + ' to learn more about interactive tables.';\n",
              "          element.innerHTML = '';\n",
              "          dataTable['output_type'] = 'display_data';\n",
              "          await google.colab.output.renderOutput(dataTable, element);\n",
              "          const docLink = document.createElement('div');\n",
              "          docLink.innerHTML = docLinkHtml;\n",
              "          element.appendChild(docLink);\n",
              "        }\n",
              "      </script>\n",
              "    </div>\n",
              "  </div>\n",
              "  "
            ]
          },
          "metadata": {},
          "execution_count": 35
        }
      ]
    },
    {
      "cell_type": "code",
      "source": [
        "# Adding a status column\n",
        "merged['status'] = ''\n",
        "# Score difference\n",
        "difference = merged.home_score - merged.away_score\n",
        "# Filling the status column (W = win, D = draw and L = loss) with resprect to the home team\n",
        "merged.loc[(merged.home_score - merged.away_score > 0), 'status'] = 'W'\n",
        "merged.loc[(merged.home_score - merged.away_score == 0), 'status'] = 'D'\n",
        "merged.loc[(merged.home_score - merged.away_score < 0), 'status'] = 'L'\n",
        "# Checking changes\n",
        "merged.head()"
      ],
      "metadata": {
        "colab": {
          "base_uri": "https://localhost:8080/",
          "height": 206
        },
        "id": "tAQOtISxjpDs",
        "outputId": "6275461f-05d2-44ab-f9dd-8adbbb66bae6"
      },
      "execution_count": 36,
      "outputs": [
        {
          "output_type": "execute_result",
          "data": {
            "text/plain": [
              "        date home_team     away_team  home_score  away_score  \\\n",
              "0 1993-08-08   Bolivia       Uruguay           3           1   \n",
              "1 1993-08-08    Brazil        Mexico           1           1   \n",
              "2 1993-08-08   Ecuador     Venezuela           5           0   \n",
              "3 1993-08-08    Guinea  Sierra Leone           1           0   \n",
              "4 1993-08-08  Paraguay     Argentina           1           3   \n",
              "\n",
              "                     tournament      city  neutral  home_tean_rank  \\\n",
              "0  FIFA World Cup qualification    La Paz    False              59   \n",
              "1                      Friendly    Maceió    False               8   \n",
              "2  FIFA World Cup qualification     Quito    False              35   \n",
              "3                      Friendly   Conakry    False              65   \n",
              "4  FIFA World Cup qualification  Asunción    False              67   \n",
              "\n",
              "   away_team_rank status  \n",
              "0              22      W  \n",
              "1              14      D  \n",
              "2              94      W  \n",
              "3              86      W  \n",
              "4               5      L  "
            ],
            "text/html": [
              "\n",
              "  <div id=\"df-838139eb-c1ff-4a93-bf4c-70d042da29e6\">\n",
              "    <div class=\"colab-df-container\">\n",
              "      <div>\n",
              "<style scoped>\n",
              "    .dataframe tbody tr th:only-of-type {\n",
              "        vertical-align: middle;\n",
              "    }\n",
              "\n",
              "    .dataframe tbody tr th {\n",
              "        vertical-align: top;\n",
              "    }\n",
              "\n",
              "    .dataframe thead th {\n",
              "        text-align: right;\n",
              "    }\n",
              "</style>\n",
              "<table border=\"1\" class=\"dataframe\">\n",
              "  <thead>\n",
              "    <tr style=\"text-align: right;\">\n",
              "      <th></th>\n",
              "      <th>date</th>\n",
              "      <th>home_team</th>\n",
              "      <th>away_team</th>\n",
              "      <th>home_score</th>\n",
              "      <th>away_score</th>\n",
              "      <th>tournament</th>\n",
              "      <th>city</th>\n",
              "      <th>neutral</th>\n",
              "      <th>home_tean_rank</th>\n",
              "      <th>away_team_rank</th>\n",
              "      <th>status</th>\n",
              "    </tr>\n",
              "  </thead>\n",
              "  <tbody>\n",
              "    <tr>\n",
              "      <th>0</th>\n",
              "      <td>1993-08-08</td>\n",
              "      <td>Bolivia</td>\n",
              "      <td>Uruguay</td>\n",
              "      <td>3</td>\n",
              "      <td>1</td>\n",
              "      <td>FIFA World Cup qualification</td>\n",
              "      <td>La Paz</td>\n",
              "      <td>False</td>\n",
              "      <td>59</td>\n",
              "      <td>22</td>\n",
              "      <td>W</td>\n",
              "    </tr>\n",
              "    <tr>\n",
              "      <th>1</th>\n",
              "      <td>1993-08-08</td>\n",
              "      <td>Brazil</td>\n",
              "      <td>Mexico</td>\n",
              "      <td>1</td>\n",
              "      <td>1</td>\n",
              "      <td>Friendly</td>\n",
              "      <td>Maceió</td>\n",
              "      <td>False</td>\n",
              "      <td>8</td>\n",
              "      <td>14</td>\n",
              "      <td>D</td>\n",
              "    </tr>\n",
              "    <tr>\n",
              "      <th>2</th>\n",
              "      <td>1993-08-08</td>\n",
              "      <td>Ecuador</td>\n",
              "      <td>Venezuela</td>\n",
              "      <td>5</td>\n",
              "      <td>0</td>\n",
              "      <td>FIFA World Cup qualification</td>\n",
              "      <td>Quito</td>\n",
              "      <td>False</td>\n",
              "      <td>35</td>\n",
              "      <td>94</td>\n",
              "      <td>W</td>\n",
              "    </tr>\n",
              "    <tr>\n",
              "      <th>3</th>\n",
              "      <td>1993-08-08</td>\n",
              "      <td>Guinea</td>\n",
              "      <td>Sierra Leone</td>\n",
              "      <td>1</td>\n",
              "      <td>0</td>\n",
              "      <td>Friendly</td>\n",
              "      <td>Conakry</td>\n",
              "      <td>False</td>\n",
              "      <td>65</td>\n",
              "      <td>86</td>\n",
              "      <td>W</td>\n",
              "    </tr>\n",
              "    <tr>\n",
              "      <th>4</th>\n",
              "      <td>1993-08-08</td>\n",
              "      <td>Paraguay</td>\n",
              "      <td>Argentina</td>\n",
              "      <td>1</td>\n",
              "      <td>3</td>\n",
              "      <td>FIFA World Cup qualification</td>\n",
              "      <td>Asunción</td>\n",
              "      <td>False</td>\n",
              "      <td>67</td>\n",
              "      <td>5</td>\n",
              "      <td>L</td>\n",
              "    </tr>\n",
              "  </tbody>\n",
              "</table>\n",
              "</div>\n",
              "      <button class=\"colab-df-convert\" onclick=\"convertToInteractive('df-838139eb-c1ff-4a93-bf4c-70d042da29e6')\"\n",
              "              title=\"Convert this dataframe to an interactive table.\"\n",
              "              style=\"display:none;\">\n",
              "        \n",
              "  <svg xmlns=\"http://www.w3.org/2000/svg\" height=\"24px\"viewBox=\"0 0 24 24\"\n",
              "       width=\"24px\">\n",
              "    <path d=\"M0 0h24v24H0V0z\" fill=\"none\"/>\n",
              "    <path d=\"M18.56 5.44l.94 2.06.94-2.06 2.06-.94-2.06-.94-.94-2.06-.94 2.06-2.06.94zm-11 1L8.5 8.5l.94-2.06 2.06-.94-2.06-.94L8.5 2.5l-.94 2.06-2.06.94zm10 10l.94 2.06.94-2.06 2.06-.94-2.06-.94-.94-2.06-.94 2.06-2.06.94z\"/><path d=\"M17.41 7.96l-1.37-1.37c-.4-.4-.92-.59-1.43-.59-.52 0-1.04.2-1.43.59L10.3 9.45l-7.72 7.72c-.78.78-.78 2.05 0 2.83L4 21.41c.39.39.9.59 1.41.59.51 0 1.02-.2 1.41-.59l7.78-7.78 2.81-2.81c.8-.78.8-2.07 0-2.86zM5.41 20L4 18.59l7.72-7.72 1.47 1.35L5.41 20z\"/>\n",
              "  </svg>\n",
              "      </button>\n",
              "      \n",
              "  <style>\n",
              "    .colab-df-container {\n",
              "      display:flex;\n",
              "      flex-wrap:wrap;\n",
              "      gap: 12px;\n",
              "    }\n",
              "\n",
              "    .colab-df-convert {\n",
              "      background-color: #E8F0FE;\n",
              "      border: none;\n",
              "      border-radius: 50%;\n",
              "      cursor: pointer;\n",
              "      display: none;\n",
              "      fill: #1967D2;\n",
              "      height: 32px;\n",
              "      padding: 0 0 0 0;\n",
              "      width: 32px;\n",
              "    }\n",
              "\n",
              "    .colab-df-convert:hover {\n",
              "      background-color: #E2EBFA;\n",
              "      box-shadow: 0px 1px 2px rgba(60, 64, 67, 0.3), 0px 1px 3px 1px rgba(60, 64, 67, 0.15);\n",
              "      fill: #174EA6;\n",
              "    }\n",
              "\n",
              "    [theme=dark] .colab-df-convert {\n",
              "      background-color: #3B4455;\n",
              "      fill: #D2E3FC;\n",
              "    }\n",
              "\n",
              "    [theme=dark] .colab-df-convert:hover {\n",
              "      background-color: #434B5C;\n",
              "      box-shadow: 0px 1px 3px 1px rgba(0, 0, 0, 0.15);\n",
              "      filter: drop-shadow(0px 1px 2px rgba(0, 0, 0, 0.3));\n",
              "      fill: #FFFFFF;\n",
              "    }\n",
              "  </style>\n",
              "\n",
              "      <script>\n",
              "        const buttonEl =\n",
              "          document.querySelector('#df-838139eb-c1ff-4a93-bf4c-70d042da29e6 button.colab-df-convert');\n",
              "        buttonEl.style.display =\n",
              "          google.colab.kernel.accessAllowed ? 'block' : 'none';\n",
              "\n",
              "        async function convertToInteractive(key) {\n",
              "          const element = document.querySelector('#df-838139eb-c1ff-4a93-bf4c-70d042da29e6');\n",
              "          const dataTable =\n",
              "            await google.colab.kernel.invokeFunction('convertToInteractive',\n",
              "                                                     [key], {});\n",
              "          if (!dataTable) return;\n",
              "\n",
              "          const docLinkHtml = 'Like what you see? Visit the ' +\n",
              "            '<a target=\"_blank\" href=https://colab.research.google.com/notebooks/data_table.ipynb>data table notebook</a>'\n",
              "            + ' to learn more about interactive tables.';\n",
              "          element.innerHTML = '';\n",
              "          dataTable['output_type'] = 'display_data';\n",
              "          await google.colab.output.renderOutput(dataTable, element);\n",
              "          const docLink = document.createElement('div');\n",
              "          docLink.innerHTML = docLinkHtml;\n",
              "          element.appendChild(docLink);\n",
              "        }\n",
              "      </script>\n",
              "    </div>\n",
              "  </div>\n",
              "  "
            ]
          },
          "metadata": {},
          "execution_count": 36
        }
      ]
    },
    {
      "cell_type": "code",
      "source": [
        "# Second dataset\n",
        "# Columns\n",
        "merged_complete.columns"
      ],
      "metadata": {
        "colab": {
          "base_uri": "https://localhost:8080/"
        },
        "id": "itJkESTuOvA_",
        "outputId": "ca7d74a1-eb9f-445c-eeca-3a4c32787838"
      },
      "execution_count": 40,
      "outputs": [
        {
          "output_type": "execute_result",
          "data": {
            "text/plain": [
              "Index(['date', 'home_team', 'away_team', 'home_score', 'away_score',\n",
              "       'tournament', 'city', 'country', 'neutral', 'rank_x', 'country_full_x',\n",
              "       'country_abrv_x', 'total_points_x', 'previous_points_x',\n",
              "       'rank_change_x', 'cur_year_avg_x', 'cur_year_avg_weighted_x',\n",
              "       'last_year_avg_x', 'last_year_avg_weighted_x', 'two_year_ago_avg_x',\n",
              "       'two_year_ago_weighted_x', 'three_year_ago_avg_x',\n",
              "       'three_year_ago_weighted_x', 'confederation_x', 'rank_date_x', 'rank_y',\n",
              "       'country_full_y', 'country_abrv_y', 'total_points_y',\n",
              "       'previous_points_y', 'rank_change_y', 'cur_year_avg_y',\n",
              "       'cur_year_avg_weighted_y', 'last_year_avg_y',\n",
              "       'last_year_avg_weighted_y', 'two_year_ago_avg_y',\n",
              "       'two_year_ago_weighted_y', 'three_year_ago_avg_y',\n",
              "       'three_year_ago_weighted_y', 'confederation_y', 'rank_date_y'],\n",
              "      dtype='object')"
            ]
          },
          "metadata": {},
          "execution_count": 40
        }
      ]
    },
    {
      "cell_type": "code",
      "source": [
        "# Dropping unnecessary columns\n",
        "merged_complete.drop(['country', 'country_full_x', 'country_full_y',\n",
        "                      'country_abrv_x', 'country_abrv_y', 'rank_date_x', \n",
        "                      'rank_date_y' ], axis = 1, inplace =True)"
      ],
      "metadata": {
        "id": "MQtU8N9zO_qz"
      },
      "execution_count": 42,
      "outputs": []
    },
    {
      "cell_type": "code",
      "source": [
        "# Checking changes\n",
        "merged_complete.columns"
      ],
      "metadata": {
        "colab": {
          "base_uri": "https://localhost:8080/"
        },
        "id": "J6cVhADJPy8A",
        "outputId": "ac975c29-f06a-47f5-8962-a781696bf6e9"
      },
      "execution_count": 43,
      "outputs": [
        {
          "output_type": "execute_result",
          "data": {
            "text/plain": [
              "Index(['date', 'home_team', 'away_team', 'home_score', 'away_score',\n",
              "       'tournament', 'city', 'neutral', 'rank_x', 'total_points_x',\n",
              "       'previous_points_x', 'rank_change_x', 'cur_year_avg_x',\n",
              "       'cur_year_avg_weighted_x', 'last_year_avg_x',\n",
              "       'last_year_avg_weighted_x', 'two_year_ago_avg_x',\n",
              "       'two_year_ago_weighted_x', 'three_year_ago_avg_x',\n",
              "       'three_year_ago_weighted_x', 'confederation_x', 'rank_y',\n",
              "       'total_points_y', 'previous_points_y', 'rank_change_y',\n",
              "       'cur_year_avg_y', 'cur_year_avg_weighted_y', 'last_year_avg_y',\n",
              "       'last_year_avg_weighted_y', 'two_year_ago_avg_y',\n",
              "       'two_year_ago_weighted_y', 'three_year_ago_avg_y',\n",
              "       'three_year_ago_weighted_y', 'confederation_y'],\n",
              "      dtype='object')"
            ]
          },
          "metadata": {},
          "execution_count": 43
        }
      ]
    },
    {
      "cell_type": "code",
      "source": [
        "# Renaming columns\n",
        "merged_complete.rename(columns = {'rank_x':'home_team_rank',\n",
        "                                  'total_points_x':'home_team_total_points', \n",
        "                                  'previous_points_x':'home_team_previous_points',\n",
        "                                  'rank_change_x':'home_team_rank_change',\n",
        "                                  'cur_year_avg_x':'home_team_cur_year_avg',\n",
        "                                  'cur_year_avg_weighted_x':'home_team_cur_year_avg_weighted',\n",
        "                                  'last_year_avg_x':'home_team_last_year_avg',\n",
        "                                  'last_year_avg_weighted_x':'home_team_last_year_avg_weighted',\n",
        "                                  'two_year_ago_avg_x':'home_team_two_year_ago_avg',\n",
        "                                  'two_year_ago_weighted_x':'home_team_two_year_ago_weighted',\n",
        "                                  'three_year_ago_avg_x':'home_team_three_year_ago_avg',\n",
        "                                  'three_year_ago_weighted_x':'home_team_three_year_ago_weighted',\n",
        "                                  'confederation_x':'home_team_confederation',\n",
        "                                  'rank_y':'away_team_rank', 'total_points_y':'away_team_total_points',\n",
        "                                  'previous_points_y':'away_team_previous_points',\n",
        "                                  'rank_change_y':'away_team_rank_change',\n",
        "                                  'cur_year_avg_y':'away_team_cur_year_avg',\n",
        "                                  'cur_year_avg_weighted_y':'away_team_cur_year_avg_weighted',\n",
        "                                  'last_year_avg_y':'away_team_last_year_avg',\n",
        "                                  'last_year_avg_weighted_y':'away_team_last_year_avg_weighted',\n",
        "                                  'two_year_ago_avg_y':'away_team_two_year_ago_avg',\n",
        "                                  'two_year_ago_weighted_y':'away_team_two_year_ago_weighted',\n",
        "                                  'three_year_ago_avg_y':'away_team_three_year_ago_avg',\n",
        "                                  'three_year_ago_weighted_y':'away_team_three_year_ago_weighted',\n",
        "                                  'confederation_y':'away_team_confederation'}, inplace = True)"
      ],
      "metadata": {
        "id": "qqEC2_SjQApD"
      },
      "execution_count": 44,
      "outputs": []
    },
    {
      "cell_type": "code",
      "source": [
        "# Confirming changes have been made\n",
        "merged_complete.columns"
      ],
      "metadata": {
        "colab": {
          "base_uri": "https://localhost:8080/"
        },
        "id": "SM5RcIptS2Bh",
        "outputId": "0da6729b-31fa-413a-eb39-92eca4004c22"
      },
      "execution_count": 45,
      "outputs": [
        {
          "output_type": "execute_result",
          "data": {
            "text/plain": [
              "Index(['date', 'home_team', 'away_team', 'home_score', 'away_score',\n",
              "       'tournament', 'city', 'neutral', 'home_team_rank',\n",
              "       'home_team_total_points', 'home_team_previous_points',\n",
              "       'home_team_rank_change', 'home_team_cur_year_avg',\n",
              "       'home_team_cur_year_avg_weighted', 'home_team_last_year_avg',\n",
              "       'home_team_last_year_avg_weighted', 'home_team_two_year_ago_avg',\n",
              "       'home_team_two_year_ago_weighted', 'home_team_three_year_ago_avg',\n",
              "       'home_team_three_year_ago_weighted', 'home_team_confederation',\n",
              "       'away_team_rank', 'away_team_total_points', 'away_team_previous_points',\n",
              "       'away_team_rank_change', 'away_team_cur_year_avg',\n",
              "       'away_team_cur_year_avg_weighted', 'away_team_last_year_avg',\n",
              "       'away_team_last_year_avg_weighted', 'away_team_two_year_ago_avg',\n",
              "       'away_team_two_year_ago_weighted', 'away_team_three_year_ago_avg',\n",
              "       'away_team_three_year_ago_weighted', 'away_team_confederation'],\n",
              "      dtype='object')"
            ]
          },
          "metadata": {},
          "execution_count": 45
        }
      ]
    },
    {
      "cell_type": "markdown",
      "metadata": {
        "id": "rF2ABPsHUtbZ"
      },
      "source": [
        "## 6. Exploratory Analysis"
      ]
    },
    {
      "cell_type": "markdown",
      "source": [
        "### Descriptive Analysis"
      ],
      "metadata": {
        "id": "ZcSFFua952RG"
      }
    },
    {
      "cell_type": "markdown",
      "source": [
        "#### a) Univariate Analysis"
      ],
      "metadata": {
        "id": "78EFKZRx57TO"
      }
    },
    {
      "cell_type": "markdown",
      "source": [
        "##### Categorical columns"
      ],
      "metadata": {
        "id": "uJ3Yd6-Z6jHI"
      }
    },
    {
      "cell_type": "code",
      "source": [
        "categorical = merged.select_dtypes(include = 'object').columns.tolist()"
      ],
      "metadata": {
        "id": "cmUHj5_U51Gu"
      },
      "execution_count": 46,
      "outputs": []
    },
    {
      "cell_type": "code",
      "metadata": {
        "id": "5nnRToniXGDK"
      },
      "source": [
        "# Ploting the univariate summaries and recording our observations\n",
        "#"
      ],
      "execution_count": 47,
      "outputs": []
    },
    {
      "cell_type": "markdown",
      "source": [
        "#### Encoding Categorical Columns"
      ],
      "metadata": {
        "id": "0vGWW8QJVHJt"
      }
    },
    {
      "cell_type": "code",
      "source": [
        "# Categorical columns\n",
        "categorical"
      ],
      "metadata": {
        "colab": {
          "base_uri": "https://localhost:8080/"
        },
        "id": "uB4JMYjqVGaK",
        "outputId": "d6325067-46f9-40f9-c0c4-3cffc9eed655"
      },
      "execution_count": 49,
      "outputs": [
        {
          "output_type": "execute_result",
          "data": {
            "text/plain": [
              "['home_team', 'away_team', 'tournament', 'city', 'status']"
            ]
          },
          "metadata": {},
          "execution_count": 49
        }
      ]
    },
    {
      "cell_type": "code",
      "source": [
        "# Checking unique categories\n",
        "for cat in categorical:\n",
        "  print(f'{cat}: {len(merged[cat].unique())}')"
      ],
      "metadata": {
        "colab": {
          "base_uri": "https://localhost:8080/"
        },
        "id": "TDyNnOdOVUoG",
        "outputId": "30f8aa19-f9dd-4db7-a09e-73a303b95ade"
      },
      "execution_count": 52,
      "outputs": [
        {
          "output_type": "stream",
          "name": "stdout",
          "text": [
            "home_team: 160\n",
            "away_team: 159\n",
            "tournament: 38\n",
            "city: 399\n",
            "status: 3\n"
          ]
        }
      ]
    },
    {
      "cell_type": "markdown",
      "source": [
        "All columns are nominal. Due to the large number of categories, dictvecorizer will be used."
      ],
      "metadata": {
        "id": "CGJQid2tVyh2"
      }
    },
    {
      "cell_type": "code",
      "source": [
        "# Dictvectorizer\n"
      ],
      "metadata": {
        "id": "_ffUl6IhV807"
      },
      "execution_count": null,
      "outputs": []
    },
    {
      "cell_type": "markdown",
      "source": [
        "#### Multicollinearity Check"
      ],
      "metadata": {
        "id": "gIUziJ1pTTWu"
      }
    },
    {
      "cell_type": "code",
      "source": [
        "# VIF function\n",
        "def VIF(data):\n",
        "  # Correlation matrix\n",
        "  correlation = data.corr()\n",
        "  # Inverse matrix\n",
        "  inv_corr = pd.DataFrame(np.linalg.inv(correlation.values), index = correlation.index, columns=correlation.columns)\n",
        "  return inv_corr\n",
        "\n",
        "# Function call\n",
        "VIF(merged)"
      ],
      "metadata": {
        "colab": {
          "base_uri": "https://localhost:8080/",
          "height": 206
        },
        "id": "xMtPhXbmTejl",
        "outputId": "2953c16b-f354-49fe-95a1-44d3372edefa"
      },
      "execution_count": 48,
      "outputs": [
        {
          "output_type": "execute_result",
          "data": {
            "text/plain": [
              "                home_score  away_score   neutral  home_tean_rank  \\\n",
              "home_score        1.186692    0.024591  0.016114        0.338687   \n",
              "away_score        0.024591    1.114007 -0.103656       -0.339373   \n",
              "neutral           0.016114   -0.103656  1.015839        0.008354   \n",
              "home_tean_rank    0.338687   -0.339373  0.008354        1.605433   \n",
              "away_team_rank   -0.545585    0.350172 -0.099092       -1.015088   \n",
              "\n",
              "                away_team_rank  \n",
              "home_score           -0.545585  \n",
              "away_score            0.350172  \n",
              "neutral              -0.099092  \n",
              "home_tean_rank       -1.015088  \n",
              "away_team_rank        1.771717  "
            ],
            "text/html": [
              "\n",
              "  <div id=\"df-bfe259b5-5d8b-4fbd-b46d-dc378a7a742b\">\n",
              "    <div class=\"colab-df-container\">\n",
              "      <div>\n",
              "<style scoped>\n",
              "    .dataframe tbody tr th:only-of-type {\n",
              "        vertical-align: middle;\n",
              "    }\n",
              "\n",
              "    .dataframe tbody tr th {\n",
              "        vertical-align: top;\n",
              "    }\n",
              "\n",
              "    .dataframe thead th {\n",
              "        text-align: right;\n",
              "    }\n",
              "</style>\n",
              "<table border=\"1\" class=\"dataframe\">\n",
              "  <thead>\n",
              "    <tr style=\"text-align: right;\">\n",
              "      <th></th>\n",
              "      <th>home_score</th>\n",
              "      <th>away_score</th>\n",
              "      <th>neutral</th>\n",
              "      <th>home_tean_rank</th>\n",
              "      <th>away_team_rank</th>\n",
              "    </tr>\n",
              "  </thead>\n",
              "  <tbody>\n",
              "    <tr>\n",
              "      <th>home_score</th>\n",
              "      <td>1.186692</td>\n",
              "      <td>0.024591</td>\n",
              "      <td>0.016114</td>\n",
              "      <td>0.338687</td>\n",
              "      <td>-0.545585</td>\n",
              "    </tr>\n",
              "    <tr>\n",
              "      <th>away_score</th>\n",
              "      <td>0.024591</td>\n",
              "      <td>1.114007</td>\n",
              "      <td>-0.103656</td>\n",
              "      <td>-0.339373</td>\n",
              "      <td>0.350172</td>\n",
              "    </tr>\n",
              "    <tr>\n",
              "      <th>neutral</th>\n",
              "      <td>0.016114</td>\n",
              "      <td>-0.103656</td>\n",
              "      <td>1.015839</td>\n",
              "      <td>0.008354</td>\n",
              "      <td>-0.099092</td>\n",
              "    </tr>\n",
              "    <tr>\n",
              "      <th>home_tean_rank</th>\n",
              "      <td>0.338687</td>\n",
              "      <td>-0.339373</td>\n",
              "      <td>0.008354</td>\n",
              "      <td>1.605433</td>\n",
              "      <td>-1.015088</td>\n",
              "    </tr>\n",
              "    <tr>\n",
              "      <th>away_team_rank</th>\n",
              "      <td>-0.545585</td>\n",
              "      <td>0.350172</td>\n",
              "      <td>-0.099092</td>\n",
              "      <td>-1.015088</td>\n",
              "      <td>1.771717</td>\n",
              "    </tr>\n",
              "  </tbody>\n",
              "</table>\n",
              "</div>\n",
              "      <button class=\"colab-df-convert\" onclick=\"convertToInteractive('df-bfe259b5-5d8b-4fbd-b46d-dc378a7a742b')\"\n",
              "              title=\"Convert this dataframe to an interactive table.\"\n",
              "              style=\"display:none;\">\n",
              "        \n",
              "  <svg xmlns=\"http://www.w3.org/2000/svg\" height=\"24px\"viewBox=\"0 0 24 24\"\n",
              "       width=\"24px\">\n",
              "    <path d=\"M0 0h24v24H0V0z\" fill=\"none\"/>\n",
              "    <path d=\"M18.56 5.44l.94 2.06.94-2.06 2.06-.94-2.06-.94-.94-2.06-.94 2.06-2.06.94zm-11 1L8.5 8.5l.94-2.06 2.06-.94-2.06-.94L8.5 2.5l-.94 2.06-2.06.94zm10 10l.94 2.06.94-2.06 2.06-.94-2.06-.94-.94-2.06-.94 2.06-2.06.94z\"/><path d=\"M17.41 7.96l-1.37-1.37c-.4-.4-.92-.59-1.43-.59-.52 0-1.04.2-1.43.59L10.3 9.45l-7.72 7.72c-.78.78-.78 2.05 0 2.83L4 21.41c.39.39.9.59 1.41.59.51 0 1.02-.2 1.41-.59l7.78-7.78 2.81-2.81c.8-.78.8-2.07 0-2.86zM5.41 20L4 18.59l7.72-7.72 1.47 1.35L5.41 20z\"/>\n",
              "  </svg>\n",
              "      </button>\n",
              "      \n",
              "  <style>\n",
              "    .colab-df-container {\n",
              "      display:flex;\n",
              "      flex-wrap:wrap;\n",
              "      gap: 12px;\n",
              "    }\n",
              "\n",
              "    .colab-df-convert {\n",
              "      background-color: #E8F0FE;\n",
              "      border: none;\n",
              "      border-radius: 50%;\n",
              "      cursor: pointer;\n",
              "      display: none;\n",
              "      fill: #1967D2;\n",
              "      height: 32px;\n",
              "      padding: 0 0 0 0;\n",
              "      width: 32px;\n",
              "    }\n",
              "\n",
              "    .colab-df-convert:hover {\n",
              "      background-color: #E2EBFA;\n",
              "      box-shadow: 0px 1px 2px rgba(60, 64, 67, 0.3), 0px 1px 3px 1px rgba(60, 64, 67, 0.15);\n",
              "      fill: #174EA6;\n",
              "    }\n",
              "\n",
              "    [theme=dark] .colab-df-convert {\n",
              "      background-color: #3B4455;\n",
              "      fill: #D2E3FC;\n",
              "    }\n",
              "\n",
              "    [theme=dark] .colab-df-convert:hover {\n",
              "      background-color: #434B5C;\n",
              "      box-shadow: 0px 1px 3px 1px rgba(0, 0, 0, 0.15);\n",
              "      filter: drop-shadow(0px 1px 2px rgba(0, 0, 0, 0.3));\n",
              "      fill: #FFFFFF;\n",
              "    }\n",
              "  </style>\n",
              "\n",
              "      <script>\n",
              "        const buttonEl =\n",
              "          document.querySelector('#df-bfe259b5-5d8b-4fbd-b46d-dc378a7a742b button.colab-df-convert');\n",
              "        buttonEl.style.display =\n",
              "          google.colab.kernel.accessAllowed ? 'block' : 'none';\n",
              "\n",
              "        async function convertToInteractive(key) {\n",
              "          const element = document.querySelector('#df-bfe259b5-5d8b-4fbd-b46d-dc378a7a742b');\n",
              "          const dataTable =\n",
              "            await google.colab.kernel.invokeFunction('convertToInteractive',\n",
              "                                                     [key], {});\n",
              "          if (!dataTable) return;\n",
              "\n",
              "          const docLinkHtml = 'Like what you see? Visit the ' +\n",
              "            '<a target=\"_blank\" href=https://colab.research.google.com/notebooks/data_table.ipynb>data table notebook</a>'\n",
              "            + ' to learn more about interactive tables.';\n",
              "          element.innerHTML = '';\n",
              "          dataTable['output_type'] = 'display_data';\n",
              "          await google.colab.output.renderOutput(dataTable, element);\n",
              "          const docLink = document.createElement('div');\n",
              "          docLink.innerHTML = docLinkHtml;\n",
              "          element.appendChild(docLink);\n",
              "        }\n",
              "      </script>\n",
              "    </div>\n",
              "  </div>\n",
              "  "
            ]
          },
          "metadata": {},
          "execution_count": 48
        }
      ]
    },
    {
      "cell_type": "markdown",
      "source": [
        "All VIFs are lower than 5, therefore, multicollinearity is not an issue."
      ],
      "metadata": {
        "id": "m15ylKtvUa9Q"
      }
    },
    {
      "cell_type": "markdown",
      "metadata": {
        "id": "vTbdjSrhVIiT"
      },
      "source": [
        "## 7. Implementing the Solution"
      ]
    },
    {
      "cell_type": "code",
      "metadata": {
        "id": "PJLZaRzJXJ3w"
      },
      "source": [
        "# Implementing the Solution\n",
        "# "
      ],
      "execution_count": null,
      "outputs": []
    },
    {
      "cell_type": "markdown",
      "metadata": {
        "id": "lQ2G4ZPDVOXE"
      },
      "source": [
        "## 8. Challenging the solution"
      ]
    },
    {
      "cell_type": "markdown",
      "metadata": {
        "id": "jWVGKGuiYMWg"
      },
      "source": [
        "> The easy solution is nice because it is, well, easy, but you should never allow those results to hold the day. You should always be thinking of ways to challenge the results, especially if those results comport with your prior expectation.\n",
        "\n",
        "\n",
        "\n",
        "\n"
      ]
    },
    {
      "cell_type": "code",
      "metadata": {
        "id": "j3x3SXZ4XT_L"
      },
      "source": [
        "# Reviewing the Solution \n",
        "#"
      ],
      "execution_count": null,
      "outputs": []
    },
    {
      "cell_type": "markdown",
      "metadata": {
        "id": "xrmHVMVsVS--"
      },
      "source": [
        "## 9. Follow up questions"
      ]
    },
    {
      "cell_type": "markdown",
      "metadata": {
        "id": "pth2qSWhuBIy"
      },
      "source": [
        "> At this point, we can refine our question or collect new data, all in an iterative process to get at the truth.\n",
        "\n"
      ]
    },
    {
      "cell_type": "markdown",
      "metadata": {
        "id": "HPQviDmNtta8"
      },
      "source": [
        "### a). Did we have the right data?"
      ]
    },
    {
      "cell_type": "markdown",
      "metadata": {
        "id": "qjFHK1CKty7o"
      },
      "source": [
        "### b). Do we need other data to answer our question?"
      ]
    },
    {
      "cell_type": "markdown",
      "metadata": {
        "id": "HSsicSdvt4Zs"
      },
      "source": [
        "### c). Did we have the right question?"
      ]
    }
  ]
}